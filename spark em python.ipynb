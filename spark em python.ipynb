{
 "cells": [
  {
   "cell_type": "markdown",
   "metadata": {
    "application/vnd.databricks.v1+cell": {
     "inputWidgets": {},
     "nuid": "eeedb276-78a4-4647-845a-481ada03d7ab",
     "showTitle": false,
     "title": ""
    },
    "colab_type": "text",
    "id": "eFS0FY6TFQYK"
   },
   "source": [
    "# Tutorial - Spark en Python\n",
    "Este notebook foi desenvolvido para apresentar alguns conceitos básicos e ajudar você a se familiarizar com o uso do Spark no Python.\n",
    "\n",
    "Neste notebook, carregaremos e exploraremos o conjunto de dados mtcars. Especificamente, este tutorial abrange:\n",
    "\n",
    "1. Carregando dados na memória\n",
    "1. Criando SQLContext\n",
    "1. Criando Spark DataFrame\n",
    "1. Agrupe dados por colunas\n",
    "1. Operando em colunas\n",
    "1. Executando consultas SQL a partir de um Spark DataFrame"
   ]
  },
  {
   "cell_type": "markdown",
   "metadata": {
    "application/vnd.databricks.v1+cell": {
     "inputWidgets": {},
     "nuid": "887ffa02-1583-4df6-a883-6b4b04ee5b42",
     "showTitle": false,
     "title": ""
    },
    "colab_type": "text",
    "id": "3JFQUx8rFQYK"
   },
   "source": [
    "## Carregando em um DataFrame\n",
    "\n",
    "Para criar um Spark DataFrame, carregamos um DataFrame externo, chamado `mtcars`. Este DataFrame inclui 32 observações em 11 variáveis.\n",
    "\n",
    "[, 1]\tmpg\tMiles/(US) --> gallon  \n",
    "[, 2]\tcyl\t--> Number of cylinders  \n",
    "[, 3]\tdisp\t--> Displacement (cu.in.)  \n",
    "[, 4]\thp -->\tGross horsepower  \n",
    "[, 5]\tdrat -->\tRear axle ratio  \n",
    "[, 6]\twt -->\tWeight (lb/1000)  \n",
    "[, 7]\tqsec -->\t1/4 mile time  \n",
    "[, 8]\tvs -->\tV/S  \n",
    "[, 9]\tam -->\tTransmission (0 = automatic, 1 = manual)  \n",
    "[,10]\tgear -->\tNumber of forward gears  \n",
    "[,11]\tcarb -->\tNumber of carburetors"
   ]
  },
  {
   "cell_type": "code",
   "execution_count": 0,
   "metadata": {
    "application/vnd.databricks.v1+cell": {
     "inputWidgets": {},
     "nuid": "3299401a-41c0-4760-a7f9-71428b3c5f89",
     "showTitle": false,
     "title": ""
    },
    "colab": {},
    "colab_type": "code",
    "id": "FkEfKZB8FQYL",
    "outputId": "920e97cd-1110-4b4c-e747-e4561c79a840"
   },
   "outputs": [
    {
     "data": {
      "text/html": [
       "<style scoped>\n",
       "  .ansiout {\n",
       "    display: block;\n",
       "    unicode-bidi: embed;\n",
       "    white-space: pre-wrap;\n",
       "    word-wrap: break-word;\n",
       "    word-break: break-all;\n",
       "    font-family: \"Source Code Pro\", \"Menlo\", monospace;;\n",
       "    font-size: 13px;\n",
       "    color: #555;\n",
       "    margin-left: 4px;\n",
       "    line-height: 19px;\n",
       "  }\n",
       "</style>\n",
       "<div class=\"ansiout\">Out[1]: [FileInfo(path=&#39;dbfs:/FileStore/tables/FileStore/&#39;, name=&#39;FileStore/&#39;, size=0),\n",
       " FileInfo(path=&#39;dbfs:/FileStore/tables/blabla/&#39;, name=&#39;blabla/&#39;, size=0),\n",
       " FileInfo(path=&#39;dbfs:/FileStore/tables/cars/&#39;, name=&#39;cars/&#39;, size=0),\n",
       " FileInfo(path=&#39;dbfs:/FileStore/tables/diamonds/&#39;, name=&#39;diamonds/&#39;, size=0),\n",
       " FileInfo(path=&#39;dbfs:/FileStore/tables/diamonds-1&#39;, name=&#39;diamonds-1&#39;, size=516549),\n",
       " FileInfo(path=&#39;dbfs:/FileStore/tables/diamonds-2&#39;, name=&#39;diamonds-2&#39;, size=516549),\n",
       " FileInfo(path=&#39;dbfs:/FileStore/tables/diamonds-3&#39;, name=&#39;diamonds-3&#39;, size=516549),\n",
       " FileInfo(path=&#39;dbfs:/FileStore/tables/diamonds-4&#39;, name=&#39;diamonds-4&#39;, size=516549),\n",
       " FileInfo(path=&#39;dbfs:/FileStore/tables/diamonds-5&#39;, name=&#39;diamonds-5&#39;, size=516549),\n",
       " FileInfo(path=&#39;dbfs:/FileStore/tables/diamonds-6&#39;, name=&#39;diamonds-6&#39;, size=516549),\n",
       " FileInfo(path=&#39;dbfs:/FileStore/tables/diamonds-7&#39;, name=&#39;diamonds-7&#39;, size=516549),\n",
       " FileInfo(path=&#39;dbfs:/FileStore/tables/diamonds-8&#39;, name=&#39;diamonds-8&#39;, size=516549),\n",
       " FileInfo(path=&#39;dbfs:/FileStore/tables/diamonds-9&#39;, name=&#39;diamonds-9&#39;, size=516549),\n",
       " FileInfo(path=&#39;dbfs:/FileStore/tables/diamonds.parquet&#39;, name=&#39;diamonds.parquet&#39;, size=516549),\n",
       " FileInfo(path=&#39;dbfs:/FileStore/tables/ff/&#39;, name=&#39;ff/&#39;, size=0),\n",
       " FileInfo(path=&#39;dbfs:/FileStore/tables/fra/&#39;, name=&#39;fra/&#39;, size=0),\n",
       " FileInfo(path=&#39;dbfs:/FileStore/tables/fraude/&#39;, name=&#39;fraude/&#39;, size=0),\n",
       " FileInfo(path=&#39;dbfs:/FileStore/tables/mtcars-1.xls&#39;, name=&#39;mtcars-1.xls&#39;, size=1700),\n",
       " FileInfo(path=&#39;dbfs:/FileStore/tables/mtcars-2.xls&#39;, name=&#39;mtcars-2.xls&#39;, size=1700),\n",
       " FileInfo(path=&#39;dbfs:/FileStore/tables/mtcars-3.xls&#39;, name=&#39;mtcars-3.xls&#39;, size=1700),\n",
       " FileInfo(path=&#39;dbfs:/FileStore/tables/mtcars-4.xls&#39;, name=&#39;mtcars-4.xls&#39;, size=1700),\n",
       " FileInfo(path=&#39;dbfs:/FileStore/tables/mtcars-5.xls&#39;, name=&#39;mtcars-5.xls&#39;, size=1700),\n",
       " FileInfo(path=&#39;dbfs:/FileStore/tables/mtcars-6.xls&#39;, name=&#39;mtcars-6.xls&#39;, size=1700),\n",
       " FileInfo(path=&#39;dbfs:/FileStore/tables/mtcars-7.xls&#39;, name=&#39;mtcars-7.xls&#39;, size=1700),\n",
       " FileInfo(path=&#39;dbfs:/FileStore/tables/mtcars.xls&#39;, name=&#39;mtcars.xls&#39;, size=1700),\n",
       " FileInfo(path=&#39;dbfs:/FileStore/tables/occupation/&#39;, name=&#39;occupation/&#39;, size=0),\n",
       " FileInfo(path=&#39;dbfs:/FileStore/tables/ratings/&#39;, name=&#39;ratings/&#39;, size=0),\n",
       " FileInfo(path=&#39;dbfs:/FileStore/tables/tabela/&#39;, name=&#39;tabela/&#39;, size=0),\n",
       " FileInfo(path=&#39;dbfs:/FileStore/tables/table_diamonds_2&#39;, name=&#39;table_diamonds_2&#39;, size=516549)]</div>"
      ]
     },
     "metadata": {
      "application/vnd.databricks.v1+output": {
       "addedWidgets": {},
       "arguments": {},
       "data": "<div class=\"ansiout\">Out[1]: [FileInfo(path=&#39;dbfs:/FileStore/tables/FileStore/&#39;, name=&#39;FileStore/&#39;, size=0),\n FileInfo(path=&#39;dbfs:/FileStore/tables/blabla/&#39;, name=&#39;blabla/&#39;, size=0),\n FileInfo(path=&#39;dbfs:/FileStore/tables/cars/&#39;, name=&#39;cars/&#39;, size=0),\n FileInfo(path=&#39;dbfs:/FileStore/tables/diamonds/&#39;, name=&#39;diamonds/&#39;, size=0),\n FileInfo(path=&#39;dbfs:/FileStore/tables/diamonds-1&#39;, name=&#39;diamonds-1&#39;, size=516549),\n FileInfo(path=&#39;dbfs:/FileStore/tables/diamonds-2&#39;, name=&#39;diamonds-2&#39;, size=516549),\n FileInfo(path=&#39;dbfs:/FileStore/tables/diamonds-3&#39;, name=&#39;diamonds-3&#39;, size=516549),\n FileInfo(path=&#39;dbfs:/FileStore/tables/diamonds-4&#39;, name=&#39;diamonds-4&#39;, size=516549),\n FileInfo(path=&#39;dbfs:/FileStore/tables/diamonds-5&#39;, name=&#39;diamonds-5&#39;, size=516549),\n FileInfo(path=&#39;dbfs:/FileStore/tables/diamonds-6&#39;, name=&#39;diamonds-6&#39;, size=516549),\n FileInfo(path=&#39;dbfs:/FileStore/tables/diamonds-7&#39;, name=&#39;diamonds-7&#39;, size=516549),\n FileInfo(path=&#39;dbfs:/FileStore/tables/diamonds-8&#39;, name=&#39;diamonds-8&#39;, size=516549),\n FileInfo(path=&#39;dbfs:/FileStore/tables/diamonds-9&#39;, name=&#39;diamonds-9&#39;, size=516549),\n FileInfo(path=&#39;dbfs:/FileStore/tables/diamonds.parquet&#39;, name=&#39;diamonds.parquet&#39;, size=516549),\n FileInfo(path=&#39;dbfs:/FileStore/tables/ff/&#39;, name=&#39;ff/&#39;, size=0),\n FileInfo(path=&#39;dbfs:/FileStore/tables/fra/&#39;, name=&#39;fra/&#39;, size=0),\n FileInfo(path=&#39;dbfs:/FileStore/tables/fraude/&#39;, name=&#39;fraude/&#39;, size=0),\n FileInfo(path=&#39;dbfs:/FileStore/tables/mtcars-1.xls&#39;, name=&#39;mtcars-1.xls&#39;, size=1700),\n FileInfo(path=&#39;dbfs:/FileStore/tables/mtcars-2.xls&#39;, name=&#39;mtcars-2.xls&#39;, size=1700),\n FileInfo(path=&#39;dbfs:/FileStore/tables/mtcars-3.xls&#39;, name=&#39;mtcars-3.xls&#39;, size=1700),\n FileInfo(path=&#39;dbfs:/FileStore/tables/mtcars-4.xls&#39;, name=&#39;mtcars-4.xls&#39;, size=1700),\n FileInfo(path=&#39;dbfs:/FileStore/tables/mtcars-5.xls&#39;, name=&#39;mtcars-5.xls&#39;, size=1700),\n FileInfo(path=&#39;dbfs:/FileStore/tables/mtcars-6.xls&#39;, name=&#39;mtcars-6.xls&#39;, size=1700),\n FileInfo(path=&#39;dbfs:/FileStore/tables/mtcars-7.xls&#39;, name=&#39;mtcars-7.xls&#39;, size=1700),\n FileInfo(path=&#39;dbfs:/FileStore/tables/mtcars.xls&#39;, name=&#39;mtcars.xls&#39;, size=1700),\n FileInfo(path=&#39;dbfs:/FileStore/tables/occupation/&#39;, name=&#39;occupation/&#39;, size=0),\n FileInfo(path=&#39;dbfs:/FileStore/tables/ratings/&#39;, name=&#39;ratings/&#39;, size=0),\n FileInfo(path=&#39;dbfs:/FileStore/tables/tabela/&#39;, name=&#39;tabela/&#39;, size=0),\n FileInfo(path=&#39;dbfs:/FileStore/tables/table_diamonds_2&#39;, name=&#39;table_diamonds_2&#39;, size=516549)]</div>",
       "datasetInfos": [],
       "metadata": {},
       "removedWidgets": [],
       "type": "html"
      }
     },
     "output_type": "display_data"
    }
   ],
   "source": [
    "dbutils.fs.ls('FileStore/tables')"
   ]
  },
  {
   "cell_type": "code",
   "execution_count": 0,
   "metadata": {
    "application/vnd.databricks.v1+cell": {
     "inputWidgets": {},
     "nuid": "50a4ca1c-908b-4ece-a59b-072e93e2c347",
     "showTitle": false,
     "title": ""
    },
    "colab": {},
    "colab_type": "code",
    "id": "jj7lXX7fFQYP",
    "outputId": "d0dd70c4-49d7-40d1-e963-8a90908db5f2"
   },
   "outputs": [
    {
     "data": {
      "text/html": [
       "<style scoped>\n",
       "  .ansiout {\n",
       "    display: block;\n",
       "    unicode-bidi: embed;\n",
       "    white-space: pre-wrap;\n",
       "    word-wrap: break-word;\n",
       "    word-break: break-all;\n",
       "    font-family: \"Source Code Pro\", \"Menlo\", monospace;;\n",
       "    font-size: 13px;\n",
       "    color: #555;\n",
       "    margin-left: 4px;\n",
       "    line-height: 19px;\n",
       "  }\n",
       "</style>\n",
       "<div class=\"ansiout\"></div>"
      ]
     },
     "metadata": {
      "application/vnd.databricks.v1+output": {
       "addedWidgets": {},
       "arguments": {},
       "data": "<div class=\"ansiout\"></div>",
       "datasetInfos": [],
       "metadata": {},
       "removedWidgets": [],
       "type": "html"
      }
     },
     "output_type": "display_data"
    }
   ],
   "source": [
    "dbutils.fs.cp(\"FileStore/tables/mtcars.xls\", \"file:/tmp/mtcars.xls\")\n",
    "import pandas as pd\n",
    "mtcars = pd.read_csv('file:/tmp/mtcars.xls')"
   ]
  },
  {
   "cell_type": "code",
   "execution_count": 0,
   "metadata": {
    "application/vnd.databricks.v1+cell": {
     "inputWidgets": {},
     "nuid": "a0fc70f9-7e9c-48b7-b7d4-96f93fc1bbf8",
     "showTitle": false,
     "title": ""
    },
    "colab": {},
    "colab_type": "code",
    "id": "Fvp24vw_FQYR",
    "outputId": "41f7aa46-7c5b-46f9-9fc0-7c28a84f7371",
    "scrolled": true
   },
   "outputs": [
    {
     "data": {
      "text/html": [
       "<div>\n",
       "<style scoped>\n",
       "    .dataframe tbody tr th:only-of-type {\n",
       "        vertical-align: middle;\n",
       "    }\n",
       "\n",
       "    .dataframe tbody tr th {\n",
       "        vertical-align: top;\n",
       "    }\n",
       "\n",
       "    .dataframe thead th {\n",
       "        text-align: right;\n",
       "    }\n",
       "</style>\n",
       "<table border=\"1\" class=\"dataframe\">\n",
       "  <thead>\n",
       "    <tr style=\"text-align: right;\">\n",
       "      <th></th>\n",
       "      <th>model</th>\n",
       "      <th>mpg</th>\n",
       "      <th>cyl</th>\n",
       "      <th>disp</th>\n",
       "      <th>hp</th>\n",
       "      <th>drat</th>\n",
       "      <th>wt</th>\n",
       "      <th>qsec</th>\n",
       "      <th>vs</th>\n",
       "      <th>am</th>\n",
       "      <th>gear</th>\n",
       "      <th>carb</th>\n",
       "    </tr>\n",
       "  </thead>\n",
       "  <tbody>\n",
       "    <tr>\n",
       "      <th>0</th>\n",
       "      <td>Mazda RX4</td>\n",
       "      <td>21.0</td>\n",
       "      <td>6</td>\n",
       "      <td>160.0</td>\n",
       "      <td>110</td>\n",
       "      <td>3.90</td>\n",
       "      <td>2.620</td>\n",
       "      <td>16.46</td>\n",
       "      <td>0</td>\n",
       "      <td>1</td>\n",
       "      <td>4</td>\n",
       "      <td>4</td>\n",
       "    </tr>\n",
       "    <tr>\n",
       "      <th>1</th>\n",
       "      <td>Mazda RX4 Wag</td>\n",
       "      <td>21.0</td>\n",
       "      <td>6</td>\n",
       "      <td>160.0</td>\n",
       "      <td>110</td>\n",
       "      <td>3.90</td>\n",
       "      <td>2.875</td>\n",
       "      <td>17.02</td>\n",
       "      <td>0</td>\n",
       "      <td>1</td>\n",
       "      <td>4</td>\n",
       "      <td>4</td>\n",
       "    </tr>\n",
       "    <tr>\n",
       "      <th>2</th>\n",
       "      <td>Datsun 710</td>\n",
       "      <td>22.8</td>\n",
       "      <td>4</td>\n",
       "      <td>108.0</td>\n",
       "      <td>93</td>\n",
       "      <td>3.85</td>\n",
       "      <td>2.320</td>\n",
       "      <td>18.61</td>\n",
       "      <td>1</td>\n",
       "      <td>1</td>\n",
       "      <td>4</td>\n",
       "      <td>1</td>\n",
       "    </tr>\n",
       "    <tr>\n",
       "      <th>3</th>\n",
       "      <td>Hornet 4 Drive</td>\n",
       "      <td>21.4</td>\n",
       "      <td>6</td>\n",
       "      <td>258.0</td>\n",
       "      <td>110</td>\n",
       "      <td>3.08</td>\n",
       "      <td>3.215</td>\n",
       "      <td>19.44</td>\n",
       "      <td>1</td>\n",
       "      <td>0</td>\n",
       "      <td>3</td>\n",
       "      <td>1</td>\n",
       "    </tr>\n",
       "    <tr>\n",
       "      <th>4</th>\n",
       "      <td>Hornet Sportabout</td>\n",
       "      <td>18.7</td>\n",
       "      <td>8</td>\n",
       "      <td>360.0</td>\n",
       "      <td>175</td>\n",
       "      <td>3.15</td>\n",
       "      <td>3.440</td>\n",
       "      <td>17.02</td>\n",
       "      <td>0</td>\n",
       "      <td>0</td>\n",
       "      <td>3</td>\n",
       "      <td>2</td>\n",
       "    </tr>\n",
       "  </tbody>\n",
       "</table>\n",
       "</div>"
      ]
     },
     "metadata": {
      "application/vnd.databricks.v1+output": {
       "addedWidgets": {},
       "arguments": {},
       "data": "<div>\n<style scoped>\n    .dataframe tbody tr th:only-of-type {\n        vertical-align: middle;\n    }\n\n    .dataframe tbody tr th {\n        vertical-align: top;\n    }\n\n    .dataframe thead th {\n        text-align: right;\n    }\n</style>\n<table border=\"1\" class=\"dataframe\">\n  <thead>\n    <tr style=\"text-align: right;\">\n      <th></th>\n      <th>model</th>\n      <th>mpg</th>\n      <th>cyl</th>\n      <th>disp</th>\n      <th>hp</th>\n      <th>drat</th>\n      <th>wt</th>\n      <th>qsec</th>\n      <th>vs</th>\n      <th>am</th>\n      <th>gear</th>\n      <th>carb</th>\n    </tr>\n  </thead>\n  <tbody>\n    <tr>\n      <th>0</th>\n      <td>Mazda RX4</td>\n      <td>21.0</td>\n      <td>6</td>\n      <td>160.0</td>\n      <td>110</td>\n      <td>3.90</td>\n      <td>2.620</td>\n      <td>16.46</td>\n      <td>0</td>\n      <td>1</td>\n      <td>4</td>\n      <td>4</td>\n    </tr>\n    <tr>\n      <th>1</th>\n      <td>Mazda RX4 Wag</td>\n      <td>21.0</td>\n      <td>6</td>\n      <td>160.0</td>\n      <td>110</td>\n      <td>3.90</td>\n      <td>2.875</td>\n      <td>17.02</td>\n      <td>0</td>\n      <td>1</td>\n      <td>4</td>\n      <td>4</td>\n    </tr>\n    <tr>\n      <th>2</th>\n      <td>Datsun 710</td>\n      <td>22.8</td>\n      <td>4</td>\n      <td>108.0</td>\n      <td>93</td>\n      <td>3.85</td>\n      <td>2.320</td>\n      <td>18.61</td>\n      <td>1</td>\n      <td>1</td>\n      <td>4</td>\n      <td>1</td>\n    </tr>\n    <tr>\n      <th>3</th>\n      <td>Hornet 4 Drive</td>\n      <td>21.4</td>\n      <td>6</td>\n      <td>258.0</td>\n      <td>110</td>\n      <td>3.08</td>\n      <td>3.215</td>\n      <td>19.44</td>\n      <td>1</td>\n      <td>0</td>\n      <td>3</td>\n      <td>1</td>\n    </tr>\n    <tr>\n      <th>4</th>\n      <td>Hornet Sportabout</td>\n      <td>18.7</td>\n      <td>8</td>\n      <td>360.0</td>\n      <td>175</td>\n      <td>3.15</td>\n      <td>3.440</td>\n      <td>17.02</td>\n      <td>0</td>\n      <td>0</td>\n      <td>3</td>\n      <td>2</td>\n    </tr>\n  </tbody>\n</table>\n</div>",
       "datasetInfos": [],
       "metadata": {},
       "removedWidgets": [],
       "textData": "<div class=\"ansiout\">Out[5]: </div>",
       "type": "htmlSandbox"
      }
     },
     "output_type": "display_data"
    }
   ],
   "source": [
    "mtcars.head()"
   ]
  },
  {
   "cell_type": "markdown",
   "metadata": {
    "application/vnd.databricks.v1+cell": {
     "inputWidgets": {},
     "nuid": "6e7d8e49-6c9e-44d9-aae6-848a958cadb5",
     "showTitle": false,
     "title": ""
    },
    "colab_type": "text",
    "id": "R_OCf4axFQYU"
   },
   "source": [
    "## Inicializar SQLContext\n",
    "Para trabalhar com quadros de dados, precisamos de um SQLContext que seja criado usando `SQLContext (sc)`. SQLContext usa SparkContext que já foi criado, chamado `sqlContext`."
   ]
  },
  {
   "cell_type": "code",
   "execution_count": 0,
   "metadata": {
    "application/vnd.databricks.v1+cell": {
     "inputWidgets": {},
     "nuid": "9523cc56-bfb0-454f-8db0-8ee8ffdc6311",
     "showTitle": false,
     "title": ""
    },
    "colab": {},
    "colab_type": "code",
    "id": "B2rFFVwVFQYU",
    "outputId": "f0f453a9-8d7b-4e28-be5c-072ab6ddf474"
   },
   "outputs": [
    {
     "data": {
      "text/html": [
       "<style scoped>\n",
       "  .ansiout {\n",
       "    display: block;\n",
       "    unicode-bidi: embed;\n",
       "    white-space: pre-wrap;\n",
       "    word-wrap: break-word;\n",
       "    word-break: break-all;\n",
       "    font-family: \"Source Code Pro\", \"Menlo\", monospace;;\n",
       "    font-size: 13px;\n",
       "    color: #555;\n",
       "    margin-left: 4px;\n",
       "    line-height: 19px;\n",
       "  }\n",
       "</style>\n",
       "<div class=\"ansiout\">Out[6]: pyspark.sql.context.SQLContext</div>"
      ]
     },
     "metadata": {
      "application/vnd.databricks.v1+output": {
       "addedWidgets": {},
       "arguments": {},
       "data": "<div class=\"ansiout\">Out[6]: pyspark.sql.context.SQLContext</div>",
       "datasetInfos": [],
       "metadata": {},
       "removedWidgets": [],
       "type": "html"
      }
     },
     "output_type": "display_data"
    }
   ],
   "source": [
    "type(sqlContext)"
   ]
  },
  {
   "cell_type": "markdown",
   "metadata": {
    "application/vnd.databricks.v1+cell": {
     "inputWidgets": {},
     "nuid": "36242f9b-dd00-46c0-8406-7ecd9bc33223",
     "showTitle": false,
     "title": ""
    },
    "colab_type": "text",
    "id": "BhWu5jJNFQYW"
   },
   "source": [
    "## Criando quadros de dados do Spark\n",
    "Com o SQLContext e um DataFrame local carregado, criamos um Spark DataFrame:"
   ]
  },
  {
   "cell_type": "code",
   "execution_count": 0,
   "metadata": {
    "application/vnd.databricks.v1+cell": {
     "inputWidgets": {},
     "nuid": "f5f92e1d-fe2f-47e5-9b9f-c664ac65b28c",
     "showTitle": false,
     "title": ""
    },
    "colab": {},
    "colab_type": "code",
    "id": "Zdmxi4rzFQYX",
    "outputId": "a4c08195-9d50-433b-957f-5c0b1e0ef510"
   },
   "outputs": [
    {
     "data": {
      "text/html": [
       "<style scoped>\n",
       "  .ansiout {\n",
       "    display: block;\n",
       "    unicode-bidi: embed;\n",
       "    white-space: pre-wrap;\n",
       "    word-wrap: break-word;\n",
       "    word-break: break-all;\n",
       "    font-family: \"Source Code Pro\", \"Menlo\", monospace;;\n",
       "    font-size: 13px;\n",
       "    color: #555;\n",
       "    margin-left: 4px;\n",
       "    line-height: 19px;\n",
       "  }\n",
       "</style>\n",
       "<div class=\"ansiout\">root\n",
       "-- model: string (nullable = true)\n",
       "-- mpg: double (nullable = true)\n",
       "-- cyl: long (nullable = true)\n",
       "-- disp: double (nullable = true)\n",
       "-- hp: long (nullable = true)\n",
       "-- drat: double (nullable = true)\n",
       "-- wt: double (nullable = true)\n",
       "-- qsec: double (nullable = true)\n",
       "-- vs: long (nullable = true)\n",
       "-- am: long (nullable = true)\n",
       "-- gear: long (nullable = true)\n",
       "-- carb: long (nullable = true)\n",
       "\n",
       "</div>"
      ]
     },
     "metadata": {
      "application/vnd.databricks.v1+output": {
       "addedWidgets": {},
       "arguments": {},
       "data": "<div class=\"ansiout\">root\n |-- model: string (nullable = true)\n |-- mpg: double (nullable = true)\n |-- cyl: long (nullable = true)\n |-- disp: double (nullable = true)\n |-- hp: long (nullable = true)\n |-- drat: double (nullable = true)\n |-- wt: double (nullable = true)\n |-- qsec: double (nullable = true)\n |-- vs: long (nullable = true)\n |-- am: long (nullable = true)\n |-- gear: long (nullable = true)\n |-- carb: long (nullable = true)\n\n</div>",
       "datasetInfos": [
        {
         "name": "sdf",
         "schema": {
          "fields": [
           {
            "metadata": {},
            "name": "model",
            "nullable": true,
            "type": "string"
           },
           {
            "metadata": {},
            "name": "mpg",
            "nullable": true,
            "type": "double"
           },
           {
            "metadata": {},
            "name": "cyl",
            "nullable": true,
            "type": "long"
           },
           {
            "metadata": {},
            "name": "disp",
            "nullable": true,
            "type": "double"
           },
           {
            "metadata": {},
            "name": "hp",
            "nullable": true,
            "type": "long"
           },
           {
            "metadata": {},
            "name": "drat",
            "nullable": true,
            "type": "double"
           },
           {
            "metadata": {},
            "name": "wt",
            "nullable": true,
            "type": "double"
           },
           {
            "metadata": {},
            "name": "qsec",
            "nullable": true,
            "type": "double"
           },
           {
            "metadata": {},
            "name": "vs",
            "nullable": true,
            "type": "long"
           },
           {
            "metadata": {},
            "name": "am",
            "nullable": true,
            "type": "long"
           },
           {
            "metadata": {},
            "name": "gear",
            "nullable": true,
            "type": "long"
           },
           {
            "metadata": {},
            "name": "carb",
            "nullable": true,
            "type": "long"
           }
          ],
          "type": "struct"
         },
         "tableIdentifier": null,
         "typeStr": "pyspark.sql.dataframe.DataFrame"
        }
       ],
       "metadata": {},
       "removedWidgets": [],
       "type": "html"
      }
     },
     "output_type": "display_data"
    }
   ],
   "source": [
    "sdf = sqlContext.createDataFrame(mtcars) \n",
    "sdf.printSchema()"
   ]
  },
  {
   "cell_type": "markdown",
   "metadata": {
    "application/vnd.databricks.v1+cell": {
     "inputWidgets": {},
     "nuid": "6a241160-e266-4884-a70d-64152c967fd1",
     "showTitle": false,
     "title": ""
    },
    "colab_type": "text",
    "id": "Pm5HyMU9FQYZ"
   },
   "source": [
    "## Exibe o conteúdo do DataFrame"
   ]
  },
  {
   "cell_type": "code",
   "execution_count": 0,
   "metadata": {
    "application/vnd.databricks.v1+cell": {
     "inputWidgets": {},
     "nuid": "4654b266-348b-4dce-a04c-5bfa1eb2059c",
     "showTitle": false,
     "title": ""
    },
    "colab": {},
    "colab_type": "code",
    "id": "EUglst-uFQYZ",
    "outputId": "63e24ce7-7b74-4de9-896e-d968e1757870",
    "scrolled": true
   },
   "outputs": [
    {
     "data": {
      "text/html": [
       "<style scoped>\n",
       "  .ansiout {\n",
       "    display: block;\n",
       "    unicode-bidi: embed;\n",
       "    white-space: pre-wrap;\n",
       "    word-wrap: break-word;\n",
       "    word-break: break-all;\n",
       "    font-family: \"Source Code Pro\", \"Menlo\", monospace;;\n",
       "    font-size: 13px;\n",
       "    color: #555;\n",
       "    margin-left: 4px;\n",
       "    line-height: 19px;\n",
       "  }\n",
       "</style>\n",
       "<div class=\"ansiout\">+-----------------+----+---+-----+---+----+-----+-----+---+---+----+----+\n",
       "            model| mpg|cyl| disp| hp|drat|   wt| qsec| vs| am|gear|carb|\n",
       "+-----------------+----+---+-----+---+----+-----+-----+---+---+----+----+\n",
       "        Mazda RX4|21.0|  6|160.0|110| 3.9| 2.62|16.46|  0|  1|   4|   4|\n",
       "    Mazda RX4 Wag|21.0|  6|160.0|110| 3.9|2.875|17.02|  0|  1|   4|   4|\n",
       "       Datsun 710|22.8|  4|108.0| 93|3.85| 2.32|18.61|  1|  1|   4|   1|\n",
       "   Hornet 4 Drive|21.4|  6|258.0|110|3.08|3.215|19.44|  1|  0|   3|   1|\n",
       "Hornet Sportabout|18.7|  8|360.0|175|3.15| 3.44|17.02|  0|  0|   3|   2|\n",
       "+-----------------+----+---+-----+---+----+-----+-----+---+---+----+----+\n",
       "only showing top 5 rows\n",
       "\n",
       "</div>"
      ]
     },
     "metadata": {
      "application/vnd.databricks.v1+output": {
       "addedWidgets": {},
       "arguments": {},
       "data": "<div class=\"ansiout\">+-----------------+----+---+-----+---+----+-----+-----+---+---+----+----+\n|            model| mpg|cyl| disp| hp|drat|   wt| qsec| vs| am|gear|carb|\n+-----------------+----+---+-----+---+----+-----+-----+---+---+----+----+\n|        Mazda RX4|21.0|  6|160.0|110| 3.9| 2.62|16.46|  0|  1|   4|   4|\n|    Mazda RX4 Wag|21.0|  6|160.0|110| 3.9|2.875|17.02|  0|  1|   4|   4|\n|       Datsun 710|22.8|  4|108.0| 93|3.85| 2.32|18.61|  1|  1|   4|   1|\n|   Hornet 4 Drive|21.4|  6|258.0|110|3.08|3.215|19.44|  1|  0|   3|   1|\n|Hornet Sportabout|18.7|  8|360.0|175|3.15| 3.44|17.02|  0|  0|   3|   2|\n+-----------------+----+---+-----+---+----+-----+-----+---+---+----+----+\nonly showing top 5 rows\n\n</div>",
       "datasetInfos": [],
       "metadata": {},
       "removedWidgets": [],
       "type": "html"
      }
     },
     "output_type": "display_data"
    }
   ],
   "source": [
    "sdf.show(5)"
   ]
  },
  {
   "cell_type": "markdown",
   "metadata": {
    "application/vnd.databricks.v1+cell": {
     "inputWidgets": {},
     "nuid": "77bf8237-4cf2-41c8-a8cd-577a789e83bf",
     "showTitle": false,
     "title": ""
    },
    "colab_type": "text",
    "id": "EOxhM20fFQYc"
   },
   "source": [
    "## Selecionando colunas"
   ]
  },
  {
   "cell_type": "code",
   "execution_count": 0,
   "metadata": {
    "application/vnd.databricks.v1+cell": {
     "inputWidgets": {},
     "nuid": "0f2db0e1-90fe-41fe-b0af-42df888b6b7f",
     "showTitle": false,
     "title": ""
    },
    "colab": {},
    "colab_type": "code",
    "id": "pBaHcOsyFQYc",
    "outputId": "bf2dbecd-185e-42a2-f887-645b1fd48a2b",
    "scrolled": true
   },
   "outputs": [
    {
     "data": {
      "text/html": [
       "<style scoped>\n",
       "  .ansiout {\n",
       "    display: block;\n",
       "    unicode-bidi: embed;\n",
       "    white-space: pre-wrap;\n",
       "    word-wrap: break-word;\n",
       "    word-break: break-all;\n",
       "    font-family: \"Source Code Pro\", \"Menlo\", monospace;;\n",
       "    font-size: 13px;\n",
       "    color: #555;\n",
       "    margin-left: 4px;\n",
       "    line-height: 19px;\n",
       "  }\n",
       "</style>\n",
       "<div class=\"ansiout\">+----+\n",
       " mpg|\n",
       "+----+\n",
       "21.0|\n",
       "21.0|\n",
       "22.8|\n",
       "21.4|\n",
       "18.7|\n",
       "+----+\n",
       "only showing top 5 rows\n",
       "\n",
       "</div>"
      ]
     },
     "metadata": {
      "application/vnd.databricks.v1+output": {
       "addedWidgets": {},
       "arguments": {},
       "data": "<div class=\"ansiout\">+----+\n| mpg|\n+----+\n|21.0|\n|21.0|\n|22.8|\n|21.4|\n|18.7|\n+----+\nonly showing top 5 rows\n\n</div>",
       "datasetInfos": [],
       "metadata": {},
       "removedWidgets": [],
       "type": "html"
      }
     },
     "output_type": "display_data"
    }
   ],
   "source": [
    "sdf.select('mpg').show(5)"
   ]
  },
  {
   "cell_type": "markdown",
   "metadata": {
    "application/vnd.databricks.v1+cell": {
     "inputWidgets": {},
     "nuid": "5002fda6-dfdd-4760-b9e1-fd07f9776622",
     "showTitle": false,
     "title": ""
    },
    "colab_type": "text",
    "id": "Xn5Y5zKcFQYe"
   },
   "source": [
    "## Filtrando dados\n",
    "Filtre o DataFrame para reter apenas linhas com mpg menor que 18"
   ]
  },
  {
   "cell_type": "code",
   "execution_count": 0,
   "metadata": {
    "application/vnd.databricks.v1+cell": {
     "inputWidgets": {},
     "nuid": "5a2c41bd-3b23-4e94-823f-cea74d3fddfb",
     "showTitle": false,
     "title": ""
    },
    "colab": {},
    "colab_type": "code",
    "id": "rDS33O-0FQYf",
    "outputId": "74c2708b-6e13-4134-8752-c28013ad45e8"
   },
   "outputs": [
    {
     "data": {
      "text/html": [
       "<style scoped>\n",
       "  .ansiout {\n",
       "    display: block;\n",
       "    unicode-bidi: embed;\n",
       "    white-space: pre-wrap;\n",
       "    word-wrap: break-word;\n",
       "    word-break: break-all;\n",
       "    font-family: \"Source Code Pro\", \"Menlo\", monospace;;\n",
       "    font-size: 13px;\n",
       "    color: #555;\n",
       "    margin-left: 4px;\n",
       "    line-height: 19px;\n",
       "  }\n",
       "</style>\n",
       "<div class=\"ansiout\">+-----------+----+---+-----+---+----+----+-----+---+---+----+----+\n",
       "      model| mpg|cyl| disp| hp|drat|  wt| qsec| vs| am|gear|carb|\n",
       "+-----------+----+---+-----+---+----+----+-----+---+---+----+----+\n",
       " Duster 360|14.3|  8|360.0|245|3.21|3.57|15.84|  0|  0|   3|   4|\n",
       "  Merc 280C|17.8|  6|167.6|123|3.92|3.44| 18.9|  1|  0|   4|   4|\n",
       " Merc 450SE|16.4|  8|275.8|180|3.07|4.07| 17.4|  0|  0|   3|   3|\n",
       " Merc 450SL|17.3|  8|275.8|180|3.07|3.73| 17.6|  0|  0|   3|   3|\n",
       "Merc 450SLC|15.2|  8|275.8|180|3.07|3.78| 18.0|  0|  0|   3|   3|\n",
       "+-----------+----+---+-----+---+----+----+-----+---+---+----+----+\n",
       "only showing top 5 rows\n",
       "\n",
       "</div>"
      ]
     },
     "metadata": {
      "application/vnd.databricks.v1+output": {
       "addedWidgets": {},
       "arguments": {},
       "data": "<div class=\"ansiout\">+-----------+----+---+-----+---+----+----+-----+---+---+----+----+\n|      model| mpg|cyl| disp| hp|drat|  wt| qsec| vs| am|gear|carb|\n+-----------+----+---+-----+---+----+----+-----+---+---+----+----+\n| Duster 360|14.3|  8|360.0|245|3.21|3.57|15.84|  0|  0|   3|   4|\n|  Merc 280C|17.8|  6|167.6|123|3.92|3.44| 18.9|  1|  0|   4|   4|\n| Merc 450SE|16.4|  8|275.8|180|3.07|4.07| 17.4|  0|  0|   3|   3|\n| Merc 450SL|17.3|  8|275.8|180|3.07|3.73| 17.6|  0|  0|   3|   3|\n|Merc 450SLC|15.2|  8|275.8|180|3.07|3.78| 18.0|  0|  0|   3|   3|\n+-----------+----+---+-----+---+----+----+-----+---+---+----+----+\nonly showing top 5 rows\n\n</div>",
       "datasetInfos": [],
       "metadata": {},
       "removedWidgets": [],
       "type": "html"
      }
     },
     "output_type": "display_data"
    }
   ],
   "source": [
    "sdf.filter(sdf['mpg'] < 18).show(5)"
   ]
  },
  {
   "cell_type": "markdown",
   "metadata": {
    "application/vnd.databricks.v1+cell": {
     "inputWidgets": {},
     "nuid": "935ac014-4648-48cf-94b8-f12ebb61d787",
     "showTitle": false,
     "title": ""
    },
    "colab_type": "text",
    "id": "624JPqWGFQYh"
   },
   "source": [
    "## Operando em colunas\n",
    "O Spark também fornece várias funções que podem ser aplicadas diretamente às colunas para processamento e agregação de dados. O exemplo abaixo mostra o uso de funções aritméticas básicas para converter lb em tonelada métrica."
   ]
  },
  {
   "cell_type": "code",
   "execution_count": 0,
   "metadata": {
    "application/vnd.databricks.v1+cell": {
     "inputWidgets": {},
     "nuid": "3d6e03b0-9fec-46fd-82e7-997f1a18b1ae",
     "showTitle": false,
     "title": ""
    },
    "colab": {},
    "colab_type": "code",
    "id": "OWVogbRYFQYi",
    "outputId": "da5858b0-d4a1-414b-9185-f11718a42ad1"
   },
   "outputs": [
    {
     "data": {
      "text/html": [
       "<style scoped>\n",
       "  .ansiout {\n",
       "    display: block;\n",
       "    unicode-bidi: embed;\n",
       "    white-space: pre-wrap;\n",
       "    word-wrap: break-word;\n",
       "    word-break: break-all;\n",
       "    font-family: \"Source Code Pro\", \"Menlo\", monospace;;\n",
       "    font-size: 13px;\n",
       "    color: #555;\n",
       "    margin-left: 4px;\n",
       "    line-height: 19px;\n",
       "  }\n",
       "</style>\n",
       "<div class=\"ansiout\">+-----------------+----+---+-----+---+----+-----+-----+---+---+----+----+-------+\n",
       "            model| mpg|cyl| disp| hp|drat|   wt| qsec| vs| am|gear|carb|  wtTon|\n",
       "+-----------------+----+---+-----+---+----+-----+-----+---+---+----+----+-------+\n",
       "        Mazda RX4|21.0|  6|160.0|110| 3.9| 2.62|16.46|  0|  1|   4|   4|  1.179|\n",
       "    Mazda RX4 Wag|21.0|  6|160.0|110| 3.9|2.875|17.02|  0|  1|   4|   4|1.29375|\n",
       "       Datsun 710|22.8|  4|108.0| 93|3.85| 2.32|18.61|  1|  1|   4|   1|  1.044|\n",
       "   Hornet 4 Drive|21.4|  6|258.0|110|3.08|3.215|19.44|  1|  0|   3|   1|1.44675|\n",
       "Hornet Sportabout|18.7|  8|360.0|175|3.15| 3.44|17.02|  0|  0|   3|   2|  1.548|\n",
       "          Valiant|18.1|  6|225.0|105|2.76| 3.46|20.22|  1|  0|   3|   1|  1.557|\n",
       "+-----------------+----+---+-----+---+----+-----+-----+---+---+----+----+-------+\n",
       "only showing top 6 rows\n",
       "\n",
       "</div>"
      ]
     },
     "metadata": {
      "application/vnd.databricks.v1+output": {
       "addedWidgets": {},
       "arguments": {},
       "data": "<div class=\"ansiout\">+-----------------+----+---+-----+---+----+-----+-----+---+---+----+----+-------+\n|            model| mpg|cyl| disp| hp|drat|   wt| qsec| vs| am|gear|carb|  wtTon|\n+-----------------+----+---+-----+---+----+-----+-----+---+---+----+----+-------+\n|        Mazda RX4|21.0|  6|160.0|110| 3.9| 2.62|16.46|  0|  1|   4|   4|  1.179|\n|    Mazda RX4 Wag|21.0|  6|160.0|110| 3.9|2.875|17.02|  0|  1|   4|   4|1.29375|\n|       Datsun 710|22.8|  4|108.0| 93|3.85| 2.32|18.61|  1|  1|   4|   1|  1.044|\n|   Hornet 4 Drive|21.4|  6|258.0|110|3.08|3.215|19.44|  1|  0|   3|   1|1.44675|\n|Hornet Sportabout|18.7|  8|360.0|175|3.15| 3.44|17.02|  0|  0|   3|   2|  1.548|\n|          Valiant|18.1|  6|225.0|105|2.76| 3.46|20.22|  1|  0|   3|   1|  1.557|\n+-----------------+----+---+-----+---+----+-----+-----+---+---+----+----+-------+\nonly showing top 6 rows\n\n</div>",
       "datasetInfos": [],
       "metadata": {},
       "removedWidgets": [],
       "type": "html"
      }
     },
     "output_type": "display_data"
    }
   ],
   "source": [
    "sdf.withColumn('wtTon', sdf['wt'] * 0.45).show(6)"
   ]
  },
  {
   "cell_type": "code",
   "execution_count": 0,
   "metadata": {
    "application/vnd.databricks.v1+cell": {
     "inputWidgets": {},
     "nuid": "21a69eac-dca3-4b25-8825-029f34ccafd3",
     "showTitle": false,
     "title": ""
    },
    "colab": {},
    "colab_type": "code",
    "id": "aJbEdElrFQYk",
    "outputId": "d7fb401f-2614-4699-add2-3b4278618e17"
   },
   "outputs": [
    {
     "data": {
      "text/html": [
       "<style scoped>\n",
       "  .ansiout {\n",
       "    display: block;\n",
       "    unicode-bidi: embed;\n",
       "    white-space: pre-wrap;\n",
       "    word-wrap: break-word;\n",
       "    word-break: break-all;\n",
       "    font-family: \"Source Code Pro\", \"Menlo\", monospace;;\n",
       "    font-size: 13px;\n",
       "    color: #555;\n",
       "    margin-left: 4px;\n",
       "    line-height: 19px;\n",
       "  }\n",
       "</style>\n",
       "<div class=\"ansiout\">+-----------------+----+---+-----+---+----+-----+-----+---+---+----+----+\n",
       "            model| mpg|cyl| disp| hp|drat|   wt| qsec| vs| am|gear|carb|\n",
       "+-----------------+----+---+-----+---+----+-----+-----+---+---+----+----+\n",
       "        Mazda RX4|21.0|  6|160.0|110| 3.9| 2.62|16.46|  0|  1|   4|   4|\n",
       "    Mazda RX4 Wag|21.0|  6|160.0|110| 3.9|2.875|17.02|  0|  1|   4|   4|\n",
       "       Datsun 710|22.8|  4|108.0| 93|3.85| 2.32|18.61|  1|  1|   4|   1|\n",
       "   Hornet 4 Drive|21.4|  6|258.0|110|3.08|3.215|19.44|  1|  0|   3|   1|\n",
       "Hornet Sportabout|18.7|  8|360.0|175|3.15| 3.44|17.02|  0|  0|   3|   2|\n",
       "          Valiant|18.1|  6|225.0|105|2.76| 3.46|20.22|  1|  0|   3|   1|\n",
       "+-----------------+----+---+-----+---+----+-----+-----+---+---+----+----+\n",
       "only showing top 6 rows\n",
       "\n",
       "</div>"
      ]
     },
     "metadata": {
      "application/vnd.databricks.v1+output": {
       "addedWidgets": {},
       "arguments": {},
       "data": "<div class=\"ansiout\">+-----------------+----+---+-----+---+----+-----+-----+---+---+----+----+\n|            model| mpg|cyl| disp| hp|drat|   wt| qsec| vs| am|gear|carb|\n+-----------------+----+---+-----+---+----+-----+-----+---+---+----+----+\n|        Mazda RX4|21.0|  6|160.0|110| 3.9| 2.62|16.46|  0|  1|   4|   4|\n|    Mazda RX4 Wag|21.0|  6|160.0|110| 3.9|2.875|17.02|  0|  1|   4|   4|\n|       Datsun 710|22.8|  4|108.0| 93|3.85| 2.32|18.61|  1|  1|   4|   1|\n|   Hornet 4 Drive|21.4|  6|258.0|110|3.08|3.215|19.44|  1|  0|   3|   1|\n|Hornet Sportabout|18.7|  8|360.0|175|3.15| 3.44|17.02|  0|  0|   3|   2|\n|          Valiant|18.1|  6|225.0|105|2.76| 3.46|20.22|  1|  0|   3|   1|\n+-----------------+----+---+-----+---+----+-----+-----+---+---+----+----+\nonly showing top 6 rows\n\n</div>",
       "datasetInfos": [],
       "metadata": {},
       "removedWidgets": [],
       "type": "html"
      }
     },
     "output_type": "display_data"
    }
   ],
   "source": [
    "sdf.show(6)"
   ]
  },
  {
   "cell_type": "markdown",
   "metadata": {
    "application/vnd.databricks.v1+cell": {
     "inputWidgets": {},
     "nuid": "cd42962e-bd12-45be-84c1-98722aff7403",
     "showTitle": false,
     "title": ""
    },
    "colab_type": "text",
    "id": "R4uRoZm6FQYm"
   },
   "source": [
    "## Agrupamento, Agregação\n",
    "Os DataFrames do Spark oferecem suporte a várias funções comumente usadas para agregar dados após o agrupamento. Por exemplo, podemos calcular o peso médio dos carros por seus cilindros, como mostrado abaixo:"
   ]
  },
  {
   "cell_type": "code",
   "execution_count": 0,
   "metadata": {
    "application/vnd.databricks.v1+cell": {
     "inputWidgets": {},
     "nuid": "f78513cc-49fb-4bae-8363-fe3f4ef45af3",
     "showTitle": false,
     "title": ""
    },
    "colab": {},
    "colab_type": "code",
    "id": "D3AenzbmFQYn",
    "outputId": "da840087-470a-46b8-d7a1-8b8c2d1652ac"
   },
   "outputs": [
    {
     "data": {
      "text/html": [
       "<style scoped>\n",
       "  .ansiout {\n",
       "    display: block;\n",
       "    unicode-bidi: embed;\n",
       "    white-space: pre-wrap;\n",
       "    word-wrap: break-word;\n",
       "    word-break: break-all;\n",
       "    font-family: \"Source Code Pro\", \"Menlo\", monospace;;\n",
       "    font-size: 13px;\n",
       "    color: #555;\n",
       "    margin-left: 4px;\n",
       "    line-height: 19px;\n",
       "  }\n",
       "</style>\n",
       "<div class=\"ansiout\">+---+------------------+\n",
       "cyl|           avg(wt)|\n",
       "+---+------------------+\n",
       "  6| 3.117142857142857|\n",
       "  4| 2.285727272727273|\n",
       "  8|3.9992142857142854|\n",
       "+---+------------------+\n",
       "\n",
       "</div>"
      ]
     },
     "metadata": {
      "application/vnd.databricks.v1+output": {
       "addedWidgets": {},
       "arguments": {},
       "data": "<div class=\"ansiout\">+---+------------------+\n|cyl|           avg(wt)|\n+---+------------------+\n|  6| 3.117142857142857|\n|  4| 2.285727272727273|\n|  8|3.9992142857142854|\n+---+------------------+\n\n</div>",
       "datasetInfos": [],
       "metadata": {},
       "removedWidgets": [],
       "type": "html"
      }
     },
     "output_type": "display_data"
    }
   ],
   "source": [
    "sdf.groupby(['cyl'])\\\n",
    ".agg({\"wt\": \"avg\"})\\\n",
    ".show(5)"
   ]
  },
  {
   "cell_type": "code",
   "execution_count": 0,
   "metadata": {
    "application/vnd.databricks.v1+cell": {
     "inputWidgets": {},
     "nuid": "69ae8301-fb32-4d7b-a41d-dea70086e50b",
     "showTitle": false,
     "title": ""
    },
    "colab": {},
    "colab_type": "code",
    "id": "WBVxoXy2FQYp",
    "outputId": "2eaa3fc0-27bf-4c96-a4fd-3f587eb78c94"
   },
   "outputs": [
    {
     "data": {
      "text/html": [
       "<style scoped>\n",
       "  .ansiout {\n",
       "    display: block;\n",
       "    unicode-bidi: embed;\n",
       "    white-space: pre-wrap;\n",
       "    word-wrap: break-word;\n",
       "    word-break: break-all;\n",
       "    font-family: \"Source Code Pro\", \"Menlo\", monospace;;\n",
       "    font-size: 13px;\n",
       "    color: #555;\n",
       "    margin-left: 4px;\n",
       "    line-height: 19px;\n",
       "  }\n",
       "</style>\n",
       "<div class=\"ansiout\">+---+---------+\n",
       "cyl|count(wt)|\n",
       "+---+---------+\n",
       "  8|       14|\n",
       "  4|       11|\n",
       "  6|        7|\n",
       "+---+---------+\n",
       "\n",
       "</div>"
      ]
     },
     "metadata": {
      "application/vnd.databricks.v1+output": {
       "addedWidgets": {},
       "arguments": {},
       "data": "<div class=\"ansiout\">+---+---------+\n|cyl|count(wt)|\n+---+---------+\n|  8|       14|\n|  4|       11|\n|  6|        7|\n+---+---------+\n\n</div>",
       "datasetInfos": [],
       "metadata": {},
       "removedWidgets": [],
       "type": "html"
      }
     },
     "output_type": "display_data"
    }
   ],
   "source": [
    "# Também podemos classificar a saída da agregação para obter os carros mais comuns\n",
    "car_counts = sdf.groupby(['cyl'])\\\n",
    ".agg({\"wt\": \"count\"})\\\n",
    ".sort(\"count(wt)\", ascending=False)\\\n",
    ".show(5)\n"
   ]
  },
  {
   "cell_type": "markdown",
   "metadata": {
    "application/vnd.databricks.v1+cell": {
     "inputWidgets": {},
     "nuid": "8f30bec4-2117-4198-96ae-c709e02878ee",
     "showTitle": false,
     "title": ""
    },
    "colab_type": "text",
    "id": "oLnnLimOFQYr"
   },
   "source": [
    "### Executando consultas SQL a partir de Spark DataFrames\n",
    "Um Spark DataFrame também pode ser registrado como uma tabela temporária no Spark SQL e o registro de um DataFrame como uma tabela permite executar consultas SQL sobre seus dados. A função `sql` permite que os aplicativos executem consultas SQL programaticamente e retorna o resultado como um DataFrame."
   ]
  },
  {
   "cell_type": "code",
   "execution_count": 0,
   "metadata": {
    "application/vnd.databricks.v1+cell": {
     "inputWidgets": {},
     "nuid": "7668af3e-961b-49df-a5f1-2acc8ec058ac",
     "showTitle": false,
     "title": ""
    },
    "colab": {},
    "colab_type": "code",
    "id": "GOJBC3fuFQYr",
    "outputId": "1b5d5821-4d03-4434-ba18-c70d83f5980a"
   },
   "outputs": [
    {
     "data": {
      "text/html": [
       "<style scoped>\n",
       "  .ansiout {\n",
       "    display: block;\n",
       "    unicode-bidi: embed;\n",
       "    white-space: pre-wrap;\n",
       "    word-wrap: break-word;\n",
       "    word-break: break-all;\n",
       "    font-family: \"Source Code Pro\", \"Menlo\", monospace;;\n",
       "    font-size: 13px;\n",
       "    color: #555;\n",
       "    margin-left: 4px;\n",
       "    line-height: 19px;\n",
       "  }\n",
       "</style>\n",
       "<div class=\"ansiout\">+----+\n",
       "gear|\n",
       "+----+\n",
       "   4|\n",
       "   4|\n",
       "   4|\n",
       "   3|\n",
       "   3|\n",
       "   3|\n",
       "+----+\n",
       "only showing top 6 rows\n",
       "\n",
       "</div>"
      ]
     },
     "metadata": {
      "application/vnd.databricks.v1+output": {
       "addedWidgets": {},
       "arguments": {},
       "data": "<div class=\"ansiout\">+----+\n|gear|\n+----+\n|   4|\n|   4|\n|   4|\n|   3|\n|   3|\n|   3|\n+----+\nonly showing top 6 rows\n\n</div>",
       "datasetInfos": [
        {
         "name": "highgearcars",
         "schema": {
          "fields": [
           {
            "metadata": {},
            "name": "gear",
            "nullable": true,
            "type": "long"
           }
          ],
          "type": "struct"
         },
         "tableIdentifier": null,
         "typeStr": "pyspark.sql.dataframe.DataFrame"
        }
       ],
       "metadata": {},
       "removedWidgets": [],
       "type": "html"
      }
     },
     "output_type": "display_data"
    }
   ],
   "source": [
    "# Register this DataFrame as a table.\n",
    "sdf.registerTempTable(\"cars\")\n",
    "\n",
    "# SQL statements can be run by using the sql method\n",
    "highgearcars = sqlContext.sql(\"SELECT gear FROM cars WHERE cyl >= 4 AND cyl <= 9\")\n",
    "highgearcars.show(6)\n",
    "    "
   ]
  },
  {
   "cell_type": "code",
   "execution_count": 0,
   "metadata": {
    "application/vnd.databricks.v1+cell": {
     "inputWidgets": {},
     "nuid": "4fd65266-8ef8-4416-9219-854ff4999f9a",
     "showTitle": false,
     "title": ""
    },
    "colab": {},
    "colab_type": "code",
    "id": "lDIxRiKEFQYt"
   },
   "outputs": [],
   "source": []
  }
 ],
 "metadata": {
  "accelerator": "GPU",
  "application/vnd.databricks.v1+notebook": {
   "dashboards": [],
   "language": "python",
   "notebookMetadata": {
    "pythonIndentUnit": 2
   },
   "notebookName": "spark em python #1",
   "notebookOrigID": 2926317200165602,
   "widgets": {}
  },
  "colab": {
   "name": "spark em python #1.ipynb",
   "provenance": []
  },
  "kernelspec": {
   "display_name": "Python 3 (ipykernel)",
   "language": "python",
   "name": "python3"
  },
  "language_info": {
   "codemirror_mode": {
    "name": "ipython",
    "version": 3
   },
   "file_extension": ".py",
   "mimetype": "text/x-python",
   "name": "python",
   "nbconvert_exporter": "python",
   "pygments_lexer": "ipython3",
   "version": "3.8.11"
  },
  "name": "Tutorial - Spark in Python7",
  "notebookId": 1572217640981468
 },
 "nbformat": 4,
 "nbformat_minor": 1
}
