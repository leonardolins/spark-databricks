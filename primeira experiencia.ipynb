{
 "cells": [
  {
   "cell_type": "markdown",
   "metadata": {},
   "source": [
    "<h1>Introdução ao <img src=\"https://community.cloud.databricks.com/login/databricks_logoTM_rgb_TM.svg\" width=\"260\"/></h1>"
   ]
  },
  {
   "cell_type": "markdown",
   "metadata": {},
   "source": [
    "## O que são Databricks?\n",
    "Databricks foi fundado pela equipe que criou Apache&reg; Spark &trade;, É o projeto de código aberto mais ativo de Big Data atualmente, e é o maior contribuidor do projeto. Hoje, centenas de organizações em todo o mundo usam o Databricks para construir e potencializar sua produção."
   ]
  },
  {
   "cell_type": "markdown",
   "metadata": {},
   "source": [
    "## Databricks Just-in-Time Data Platform\n",
    "Databricks desenvolveu uma plataforma de dados just-in-time para criar e implantar aplicativos Spark a fim de ajudar organizações de todos os tamanhos a realizar o mais alto potencial da estrutura de software livre..<br>\n",
    "<img src=\"https://image.slidesharecdn.com/sse15-ion-keynotefinal0317151715-150319163331-conversion-gate01/95/spark-summit-east-2015-keynote-databricks-ceo-ion-stoica-10-638.jpg?cb=1427242935\">\n",
    "<br>\n",
    "\n",
    "Com o Databricks, você pode obter\n",
    "- **Seu armazenamento**: Ao virtualizar o armazenamento, o Databricks permite o acesso aos dados em qualquer lugar\n",
    "- **Apache Spark na Cloud**: Databricks oferece um ambiente de produção altamente seguro e confiável na nuvem, gerenciado e suportado por especialistas do Spark.\n",
    "- **Workspace Integrado**: Databricks democratiza e agiliza o processo de exploração de dados, prototipagem e operacionalização de aplicativos orientados a dados no Spark."
   ]
  },
  {
   "cell_type": "markdown",
   "metadata": {},
   "source": [
    "## Por que Databricks?\n",
    "As bibliotecas de dados são a maneira mais fácil e rápida de aproveitar todo o potencial do Spark:\n",
    "- Acesso às versões mais recentes e ajustadas do Spark\n",
    "- Ferramentas para resolver os casos de uso de análise avançada mais complexos\n",
    "- Suporte dos especialistas da Spark"
   ]
  },
  {
   "cell_type": "markdown",
   "metadata": {},
   "source": [
    "## Começando com Databricks\n",
    "\n",
    "Para usar spark em Databricks, você precisa seguir alguns passos:\n",
    "\n",
    "### a. Criando Cluster\n",
    "\n",
    "Clusters são grupos de computadores que você trata como um único computador. Em Databricks, os Clusters permitem que você execute código de blocos de notas ou bibliotecas no conjunto de dados. Esses dados podem ser dados brutos localizados no S3, ou em dados estruturados que você carregou como uma tabela no DFS (Databricks File System).\n",
    "\n",
    "Para criar um cluster, click no ícone Clusters ![Clusters Menu Icon](https://docs.databricks.com/_images/clusters-menu-icon.png) no menu do lado esquerdo.<br>\n",
    "<img src=\"https://databricks.com/wp-content/uploads/2016/05/spark-2-branch-preview-in-databricks.png\" width=\"450\"><br><br>\n",
    "Na community edition, para criar um cluster, você precisa apenas:\n",
    "-   Selecionar um nome exclusivo para o cluster..\n",
    "-   Selecionar a versão do Spark (escolha a versão 2.X)..\n",
    "\n",
    "Depois de criar um cluster, você pode anexar um bloco de anotações a ele e começar a executar o código.\n",
    "<br><br>"
   ]
  },
  {
   "cell_type": "markdown",
   "metadata": {},
   "source": [
    "### b. Criando/ Importando um Notebook no Workspace\n",
    "\n",
    "-   **Workspaces**\n",
    "    -   Workspaces permitem que você organize todo o trabalho que está fazendo no Databricks. Como uma estrutura de pastas no seu computador, ele permite que você salve **notebooks** e **bibliotecas** e os compartilhe com outros usuários. \n",
    "-   **Notebooks**\n",
    "    -   Notebooks são um conjunto de qualquer número de células que permitem executar comandos. As células mantêm o código em qualquer um dos seguintes linguagens: `Scala`, `Python`, `R`, `SQL`, ou `Markdown`. Os notebooks têm um idioma padrão, mas cada célula pode ter uma substituição de idioma para outra linguagem. Isto é feito incluindo o `%[language name]` no topo da célula. Por exemplo, `%sql`.\n",
    "    -   Os notebooks precisam estar conectados a um  **cluster** para poder executar comandos, mas eles não estão permanentemente vinculados a um cluster. Isso permite que os notebooks sejam compartilhados via web ou baixados em sua máquina local.\n",
    "    \n",
    "    \n",
    "Para criar um notebook, clique no ícone do Workspace ![Workspace Menu Icon](https://docs.databricks.com/_images/workspace-icon.png) no menu do lado esquerdo e clique em `Users` &rarr; `<your_email>` para começar.<br>\n",
    "<img src=\"https://docs.databricks.com/_images/create-notebook.png\" width=\"320\"><br><br>\n",
    "Clique com o botão direito do mouse no espaço em branco e um Diálogo Criar Notebook aparecerá.<br>\n",
    "\n",
    "- **Criando notebook**: Escolha `Create` &rarr; `Notebook` e depois:\n",
    "  - Digite um nome exclusivo para o seu notebook.\n",
    "  - Para a linguagem, clique no menu suspenso e escolha **python**.\n",
    "  - Para cluster, clique no menu suspenso e escolha o cluster que você criou na etapa acima.\n",
    "- **Importando o notebook**: Escolha `Import` e depois:\n",
    "  - Escolha `File` para fazer upload do notebook para Databricks.\n",
    "  - Escolha `URL` para importar o notebook usando sua URL.\n",
    "  - Quando o notebook for importado, anexe-o ao cluster usando o menu suspenso superior esquerdo."
   ]
  },
  {
   "cell_type": "markdown",
   "metadata": {},
   "source": [
    "### c. Usando o Notebook\n",
    "\n",
    "Agora que você criou (ou importou) um notebook, é hora de começar a usá-lo. Primeiro, você precisa verificar se está anexado a um cluster. Você verá uma opção para fazer isso diretamente sob o nome do notebook. Agora que você criou seu notebook e o anexou a um cluster, é possível executar alguns comandos de exemplo.\n",
    "\n",
    "Para executar o comando, digite o script abaixo e pressione `Shift + Enter` para executá-lo.\n",
    "\n",
    "No Databricks, as seguintes variáveis do Apache Spark foram criadas e estão prontas para uso.\n",
    "\n",
    "| Descrição                   | Nome da variável |\n",
    "|-----------------------------|------------------|\n",
    "| Spark Context               | `sc`             |\n",
    "| SQL Context / Hive Context  | `sqlContext`     |\n",
    "| SparkSession (2.0 and later)| `spark`          |\n",
    "\n",
    "*Nota*: Use os contextos existentes fornecidos com o notebook. A criação de vários contextos não é suportada e pode causar um comportamento inconsistente."
   ]
  },
  {
   "cell_type": "code",
   "execution_count": 8,
   "metadata": {},
   "outputs": [
    {
     "data": {
      "text/html": [
       "<style scoped>\n",
       "  .ansiout {\n",
       "    display: block;\n",
       "    unicode-bidi: embed;\n",
       "    white-space: pre-wrap;\n",
       "    word-wrap: break-word;\n",
       "    word-break: break-all;\n",
       "    font-family: \"Source Code Pro\", \"Menlo\", monospace;;\n",
       "    font-size: 13px;\n",
       "    color: #555;\n",
       "    margin-left: 4px;\n",
       "    line-height: 19px;\n",
       "  }\n",
       "</style>\n",
       "<div class=\"ansiout\">Spark app name: Databricks Shell\n",
       "Spark version:  2.4.0\n",
       "python version: 3.5\n",
       "</div>"
      ]
     },
     "metadata": {},
     "output_type": "display_data"
    }
   ],
   "source": [
    "print('Spark app name: {}'.format(sc.appName))\n",
    "print('Spark version:  {}'.format(sc.version))\n",
    "print('python version: {}'.format(sc.pythonVer))"
   ]
  },
  {
   "cell_type": "markdown",
   "metadata": {},
   "source": [
    "### d. Criando um DataFrame Spark\n",
    "\n",
    "O Databricks File System ou DBFS é um sistema de arquivos distribuído que é instalado no Spark Clusters em Databricks. É uma camada sobre aws `S3`, que permite:\n",
    "\n",
    "- Montar buckets S3 para disponibilizá-los aos usuários em sua área de trabalho\n",
    "- Armazenar em cache os dados do S3 nos discos de estado sólido (SSDs) de seus nós de trabalhadores para acelerar o acesso.\n",
    "- Acessar dados através do Databricks Utilities - `dbutils`.\n",
    "\n",
    "Agora vamos criar uma ignição com dataFrame usando o conjunto de dados `iris` do Databricks, e visualizá-la usando a função` display () `incorporada do Databricks.\n",
    "\n",
    "O arquivo `iris.csv` pode ser importado através do caminho dbfs `/databricks-datasets/Rdatasets/data-001/csv/datasets`:"
   ]
  },
  {
   "cell_type": "code",
   "execution_count": 10,
   "metadata": {},
   "outputs": [
    {
     "data": {
      "text/html": [
       "<style scoped>\n",
       "  .table-result-container {\n",
       "    max-height: 300px;\n",
       "    overflow: auto;\n",
       "  }\n",
       "  table, th, td {\n",
       "    border: 1px solid black;\n",
       "    border-collapse: collapse;\n",
       "  }\n",
       "  th, td {\n",
       "    padding: 5px;\n",
       "  }\n",
       "  th {\n",
       "    text-align: left;\n",
       "  }\n",
       "</style><div class='table-result-container'><table class='table-result'><thead style='background-color: white'><tr><th>path</th><th>name</th><th>size</th></tr></thead><tbody><tr><td>dbfs:/databricks-datasets/Rdatasets/data-001/csv/datasets/AirPassengers.csv</td><td>AirPassengers.csv</td><td>3326</td></tr><tr><td>dbfs:/databricks-datasets/Rdatasets/data-001/csv/datasets/BJsales.csv</td><td>BJsales.csv</td><td>2170</td></tr><tr><td>dbfs:/databricks-datasets/Rdatasets/data-001/csv/datasets/BOD.csv</td><td>BOD.csv</td><td>80</td></tr><tr><td>dbfs:/databricks-datasets/Rdatasets/data-001/csv/datasets/Formaldehyde.csv</td><td>Formaldehyde.csv</td><td>103</td></tr><tr><td>dbfs:/databricks-datasets/Rdatasets/data-001/csv/datasets/HairEyeColor.csv</td><td>HairEyeColor.csv</td><td>1005</td></tr><tr><td>dbfs:/databricks-datasets/Rdatasets/data-001/csv/datasets/InsectSprays.csv</td><td>InsectSprays.csv</td><td>836</td></tr><tr><td>dbfs:/databricks-datasets/Rdatasets/data-001/csv/datasets/JohnsonJohnson.csv</td><td>JohnsonJohnson.csv</td><td>1441</td></tr><tr><td>dbfs:/databricks-datasets/Rdatasets/data-001/csv/datasets/LakeHuron.csv</td><td>LakeHuron.csv</td><td>1667</td></tr><tr><td>dbfs:/databricks-datasets/Rdatasets/data-001/csv/datasets/LifeCycleSavings.csv</td><td>LifeCycleSavings.csv</td><td>1984</td></tr><tr><td>dbfs:/databricks-datasets/Rdatasets/data-001/csv/datasets/Nile.csv</td><td>Nile.csv</td><td>1439</td></tr><tr><td>dbfs:/databricks-datasets/Rdatasets/data-001/csv/datasets/OrchardSprays.csv</td><td>OrchardSprays.csv</td><td>1049</td></tr><tr><td>dbfs:/databricks-datasets/Rdatasets/data-001/csv/datasets/PlantGrowth.csv</td><td>PlantGrowth.csv</td><td>518</td></tr><tr><td>dbfs:/databricks-datasets/Rdatasets/data-001/csv/datasets/Puromycin.csv</td><td>Puromycin.csv</td><td>579</td></tr><tr><td>dbfs:/databricks-datasets/Rdatasets/data-001/csv/datasets/Titanic.csv</td><td>Titanic.csv</td><td>1170</td></tr><tr><td>dbfs:/databricks-datasets/Rdatasets/data-001/csv/datasets/ToothGrowth.csv</td><td>ToothGrowth.csv</td><td>1054</td></tr><tr><td>dbfs:/databricks-datasets/Rdatasets/data-001/csv/datasets/UCBAdmissions.csv</td><td>UCBAdmissions.csv</td><td>784</td></tr><tr><td>dbfs:/databricks-datasets/Rdatasets/data-001/csv/datasets/UKDriverDeaths.csv</td><td>UKDriverDeaths.csv</td><td>4655</td></tr><tr><td>dbfs:/databricks-datasets/Rdatasets/data-001/csv/datasets/UKgas.csv</td><td>UKgas.csv</td><td>1946</td></tr><tr><td>dbfs:/databricks-datasets/Rdatasets/data-001/csv/datasets/USAccDeaths.csv</td><td>USAccDeaths.csv</td><td>1728</td></tr><tr><td>dbfs:/databricks-datasets/Rdatasets/data-001/csv/datasets/USArrests.csv</td><td>USArrests.csv</td><td>1387</td></tr><tr><td>dbfs:/databricks-datasets/Rdatasets/data-001/csv/datasets/USJudgeRatings.csv</td><td>USJudgeRatings.csv</td><td>2659</td></tr><tr><td>dbfs:/databricks-datasets/Rdatasets/data-001/csv/datasets/USPersonalExpenditure.csv</td><td>USPersonalExpenditure.csv</td><td>255</td></tr><tr><td>dbfs:/databricks-datasets/Rdatasets/data-001/csv/datasets/VADeaths.csv</td><td>VADeaths.csv</td><td>189</td></tr><tr><td>dbfs:/databricks-datasets/Rdatasets/data-001/csv/datasets/WWWusage.csv</td><td>WWWusage.csv</td><td>1178</td></tr><tr><td>dbfs:/databricks-datasets/Rdatasets/data-001/csv/datasets/WorldPhones.csv</td><td>WorldPhones.csv</td><td>368</td></tr><tr><td>dbfs:/databricks-datasets/Rdatasets/data-001/csv/datasets/airmiles.csv</td><td>airmiles.csv</td><td>379</td></tr><tr><td>dbfs:/databricks-datasets/Rdatasets/data-001/csv/datasets/airquality.csv</td><td>airquality.csv</td><td>3715</td></tr><tr><td>dbfs:/databricks-datasets/Rdatasets/data-001/csv/datasets/anscombe.csv</td><td>anscombe.csv</td><td>413</td></tr><tr><td>dbfs:/databricks-datasets/Rdatasets/data-001/csv/datasets/attenu.csv</td><td>attenu.csv</td><td>5097</td></tr><tr><td>dbfs:/databricks-datasets/Rdatasets/data-001/csv/datasets/attitude.csv</td><td>attitude.csv</td><td>850</td></tr><tr><td>dbfs:/databricks-datasets/Rdatasets/data-001/csv/datasets/austres.csv</td><td>austres.csv</td><td>1774</td></tr><tr><td>dbfs:/databricks-datasets/Rdatasets/data-001/csv/datasets/cars.csv</td><td>cars.csv</td><td>552</td></tr><tr><td>dbfs:/databricks-datasets/Rdatasets/data-001/csv/datasets/chickwts.csv</td><td>chickwts.csv</td><td>1402</td></tr><tr><td>dbfs:/databricks-datasets/Rdatasets/data-001/csv/datasets/co2.csv</td><td>co2.csv</td><td>13816</td></tr><tr><td>dbfs:/databricks-datasets/Rdatasets/data-001/csv/datasets/crimtab.csv</td><td>crimtab.csv</td><td>2426</td></tr><tr><td>dbfs:/databricks-datasets/Rdatasets/data-001/csv/datasets/discoveries.csv</td><td>discoveries.csv</td><td>1218</td></tr><tr><td>dbfs:/databricks-datasets/Rdatasets/data-001/csv/datasets/esoph.csv</td><td>esoph.csv</td><td>3079</td></tr><tr><td>dbfs:/databricks-datasets/Rdatasets/data-001/csv/datasets/euro.csv</td><td>euro.csv</td><td>162</td></tr><tr><td>dbfs:/databricks-datasets/Rdatasets/data-001/csv/datasets/faithful.csv</td><td>faithful.csv</td><td>3802</td></tr><tr><td>dbfs:/databricks-datasets/Rdatasets/data-001/csv/datasets/freeny.csv</td><td>freeny.csv</td><td>1970</td></tr><tr><td>dbfs:/databricks-datasets/Rdatasets/data-001/csv/datasets/infert.csv</td><td>infert.csv</td><td>8098</td></tr><tr><td>dbfs:/databricks-datasets/Rdatasets/data-001/csv/datasets/iris.csv</td><td>iris.csv</td><td>4821</td></tr><tr><td>dbfs:/databricks-datasets/Rdatasets/data-001/csv/datasets/islands.csv</td><td>islands.csv</td><td>726</td></tr><tr><td>dbfs:/databricks-datasets/Rdatasets/data-001/csv/datasets/lh.csv</td><td>lh.csv</td><td>563</td></tr><tr><td>dbfs:/databricks-datasets/Rdatasets/data-001/csv/datasets/longley.csv</td><td>longley.csv</td><td>907</td></tr><tr><td>dbfs:/databricks-datasets/Rdatasets/data-001/csv/datasets/lynx.csv</td><td>lynx.csv</td><td>1663</td></tr><tr><td>dbfs:/databricks-datasets/Rdatasets/data-001/csv/datasets/morley.csv</td><td>morley.csv</td><td>1483</td></tr><tr><td>dbfs:/databricks-datasets/Rdatasets/data-001/csv/datasets/mtcars.csv</td><td>mtcars.csv</td><td>1783</td></tr><tr><td>dbfs:/databricks-datasets/Rdatasets/data-001/csv/datasets/nhtemp.csv</td><td>nhtemp.csv</td><td>898</td></tr><tr><td>dbfs:/databricks-datasets/Rdatasets/data-001/csv/datasets/nottem.csv</td><td>nottem.csv</td><td>5785</td></tr><tr><td>dbfs:/databricks-datasets/Rdatasets/data-001/csv/datasets/npk.csv</td><td>npk.csv</td><td>632</td></tr><tr><td>dbfs:/databricks-datasets/Rdatasets/data-001/csv/datasets/occupationalStatus.csv</td><td>occupationalStatus.csv</td><td>258</td></tr><tr><td>dbfs:/databricks-datasets/Rdatasets/data-001/csv/datasets/precip.csv</td><td>precip.csv</td><td>672</td></tr><tr><td>dbfs:/databricks-datasets/Rdatasets/data-001/csv/datasets/presidents.csv</td><td>presidents.csv</td><td>1835</td></tr><tr><td>dbfs:/databricks-datasets/Rdatasets/data-001/csv/datasets/pressure.csv</td><td>pressure.csv</td><td>272</td></tr><tr><td>dbfs:/databricks-datasets/Rdatasets/data-001/csv/datasets/quakes.csv</td><td>quakes.csv</td><td>29960</td></tr><tr><td>dbfs:/databricks-datasets/Rdatasets/data-001/csv/datasets/randu.csv</td><td>randu.csv</td><td>12965</td></tr><tr><td>dbfs:/databricks-datasets/Rdatasets/data-001/csv/datasets/rivers.csv</td><td>rivers.csv</td><td>1326</td></tr><tr><td>dbfs:/databricks-datasets/Rdatasets/data-001/csv/datasets/rock.csv</td><td>rock.csv</td><td>1530</td></tr><tr><td>dbfs:/databricks-datasets/Rdatasets/data-001/csv/datasets/sleep.csv</td><td>sleep.csv</td><td>358</td></tr><tr><td>dbfs:/databricks-datasets/Rdatasets/data-001/csv/datasets/stackloss.csv</td><td>stackloss.csv</td><td>396</td></tr><tr><td>dbfs:/databricks-datasets/Rdatasets/data-001/csv/datasets/sunspot.month.csv</td><td>sunspot.month.csv</td><td>79267</td></tr><tr><td>dbfs:/databricks-datasets/Rdatasets/data-001/csv/datasets/sunspot.year.csv</td><td>sunspot.year.csv</td><td>4375</td></tr><tr><td>dbfs:/databricks-datasets/Rdatasets/data-001/csv/datasets/sunspots.csv</td><td>sunspots.csv</td><td>79218</td></tr><tr><td>dbfs:/databricks-datasets/Rdatasets/data-001/csv/datasets/swiss.csv</td><td>swiss.csv</td><td>1757</td></tr><tr><td>dbfs:/databricks-datasets/Rdatasets/data-001/csv/datasets/treering.csv</td><td>treering.csv</td><td>145433</td></tr><tr><td>dbfs:/databricks-datasets/Rdatasets/data-001/csv/datasets/trees.csv</td><td>trees.csv</td><td>555</td></tr><tr><td>dbfs:/databricks-datasets/Rdatasets/data-001/csv/datasets/uspop.csv</td><td>uspop.csv</td><td>296</td></tr><tr><td>dbfs:/databricks-datasets/Rdatasets/data-001/csv/datasets/volcano.csv</td><td>volcano.csv</td><td>21596</td></tr><tr><td>dbfs:/databricks-datasets/Rdatasets/data-001/csv/datasets/warpbreaks.csv</td><td>warpbreaks.csv</td><td>884</td></tr><tr><td>dbfs:/databricks-datasets/Rdatasets/data-001/csv/datasets/women.csv</td><td>women.csv</td><td>192</td></tr></tbody></table></div>"
      ]
     },
     "metadata": {},
     "output_type": "display_data"
    }
   ],
   "source": [
    "display(dbutils.fs.ls('/databricks-datasets/Rdatasets/data-001/csv/datasets/'))"
   ]
  },
  {
   "cell_type": "code",
   "execution_count": 11,
   "metadata": {},
   "outputs": [
    {
     "data": {
      "text/html": [
       "<style scoped>\n",
       "  .ansiout {\n",
       "    display: block;\n",
       "    unicode-bidi: embed;\n",
       "    white-space: pre-wrap;\n",
       "    word-wrap: break-word;\n",
       "    word-break: break-all;\n",
       "    font-family: \"Source Code Pro\", \"Menlo\", monospace;;\n",
       "    font-size: 13px;\n",
       "    color: #555;\n",
       "    margin-left: 4px;\n",
       "    line-height: 19px;\n",
       "  }\n",
       "</style>\n",
       "<div class=\"ansiout\">&quot;&quot;,&quot;Sepal.Length&quot;,&quot;Sepal.Width&quot;,&quot;Petal.Length&quot;,&quot;Petal.Width&quot;,&quot;Species&quot;\n",
       "&quot;1&quot;,5.1,3.5,1.4,0.2,&quot;setosa&quot;\n",
       "&quot;2&quot;,4.9,3,1.4,0.2,&quot;setosa&quot;\n",
       "&quot;3&quot;,4.7,3.2,1.3,0.2,&quot;setosa&quot;\n",
       "&quot;4&quot;,4.6,3.1,1.5,0.2,&quot;setosa&quot;\n",
       "&quot;5&quot;,5,3.6,1.4,0.2,&quot;setosa&quot;\n",
       "&quot;6&quot;,5.4,3.9,1.7,0.4,&quot;setosa&quot;\n",
       "&quot;7&quot;,4.6,3.4,1.4,0.3,&quot;setosa&quot;\n",
       "&quot;8&quot;,5,3.4,1.5,0.2,&quot;setosa&quot;\n",
       "&quot;9&quot;,4.4,2.9,1.4,0.2,&quot;setosa&quot;\n",
       "&quot;10&quot;,4.9,3.1,1.5,0.1,&quot;setosa&quot;\n",
       "&quot;11&quot;,5.4,3.7,1.5,0.2,&quot;setosa&quot;\n",
       "&quot;12&quot;,4.8,3.4,1.6,0.2,&quot;setosa&quot;\n",
       "&quot;13&quot;,4.8,3,1.4,0.1,&quot;setosa&quot;\n",
       "&quot;14&quot;,4.3,3,1.1,0.1,&quot;setosa&quot;\n",
       "&quot;15&quot;,5.8,4,1.2,0.2,&quot;setosa&quot;\n",
       "&quot;16&quot;,5.7,4.4,1.5,0.4,&quot;setosa&quot;\n",
       "&quot;17&quot;,5.4,3.9,1.3,0.4,&quot;setosa&quot;\n",
       "&quot;18&quot;,5.1,3.5,1.4,0.3,&quot;setosa&quot;\n",
       "&quot;19&quot;,5.7,3.8,1.7,0.3,&quot;setosa&quot;\n",
       "&quot;20&quot;,5.1,3.8,1.5,0.3,&quot;setosa&quot;\n",
       "&quot;21&quot;,5.4,3.4,1.7,0.2,&quot;setosa&quot;\n",
       "&quot;22&quot;,5.1,3.7,1.5,0.4,&quot;setosa&quot;\n",
       "&quot;23&quot;,4.6,3.6,1,0.2,&quot;setosa&quot;\n",
       "&quot;24&quot;,5.1,3.3,1.7,0.5,&quot;setosa&quot;\n",
       "&quot;25&quot;,4.8,3.4,1.9,0.2,&quot;setosa&quot;\n",
       "&quot;26&quot;,5,3,1.6,0.2,&quot;setosa&quot;\n",
       "&quot;27&quot;,5,3.4,1.6,0.4,&quot;setosa&quot;\n",
       "&quot;28&quot;,5.2,3.5,1.5,0.2,&quot;setosa&quot;\n",
       "&quot;29&quot;,5.2,3.4,1.4,0.2,&quot;setosa&quot;\n",
       "&quot;30&quot;,4.7,3.2,1.6,0.2,&quot;setosa&quot;\n",
       "&quot;31&quot;,4.8,3.1,1.6,0.2,&quot;setosa&quot;\n",
       "&quot;32&quot;,5.4,3.4,1.5,0.4,&quot;setosa&quot;\n",
       "&quot;33&quot;,5.2,4.1,1.5,0.1,&quot;setosa&quot;\n",
       "&quot;34&quot;,5.5,4.2,1.4,0.2,&quot;setosa&quot;\n",
       "&quot;35&quot;,4.9,3.1,1.5,0.2,&quot;setosa&quot;\n",
       "&quot;36&quot;,5,3.2,1.2,0.2,&quot;setosa&quot;\n",
       "&quot;37&quot;,5.5,3.5,1.3,0.2,&quot;setosa&quot;\n",
       "&quot;38&quot;,4.9,3.6,1.4,0.1,&quot;setosa&quot;\n",
       "&quot;39&quot;,4.4,3,1.3,0.2,&quot;setosa&quot;\n",
       "&quot;40&quot;,5.1,3.4,1.5,0.2,&quot;setosa&quot;\n",
       "&quot;41&quot;,5,3.5,1.3,0.3,&quot;setosa&quot;\n",
       "&quot;42&quot;,4.5,2.3,1.3,0.3,&quot;setosa&quot;\n",
       "&quot;43&quot;,4.4,3.2,1.3,0.2,&quot;setosa&quot;\n",
       "&quot;44&quot;,5,3.5,1.6,0.6,&quot;setosa&quot;\n",
       "&quot;45&quot;,5.1,3.8,1.9,0.4,&quot;setosa&quot;\n",
       "&quot;46&quot;,4.8,3,1.4,0.3,&quot;setosa&quot;\n",
       "&quot;47&quot;,5.1,3.8,1.6,0.2,&quot;setosa&quot;\n",
       "&quot;48&quot;,4.6,3.2,1.4,0.2,&quot;setosa&quot;\n",
       "&quot;49&quot;,5.3,3.7,1.5,0.2,&quot;setosa&quot;\n",
       "&quot;50&quot;,5,3.3,1.4,0.2,&quot;setosa&quot;\n",
       "&quot;51&quot;,7,3.2,4.7,1.4,&quot;versicolor&quot;\n",
       "&quot;52&quot;,6.4,3.2,4.5,1.5,&quot;versicolor&quot;\n",
       "&quot;53&quot;,6.9,3.1,4.9,1.5,&quot;versicolor&quot;\n",
       "&quot;54&quot;,5.5,2.3,4,1.3,&quot;versicolor&quot;\n",
       "&quot;55&quot;,6.5,2.8,4.6,1.5,&quot;versicolor&quot;\n",
       "&quot;56&quot;,5.7,2.8,4.5,1.3,&quot;versicolor&quot;\n",
       "&quot;57&quot;,6.3,3.3,4.7,1.6,&quot;versicolor&quot;\n",
       "&quot;58&quot;,4.9,2.4,3.3,1,&quot;versicolor&quot;\n",
       "&quot;59&quot;,6.6,2.9,4.6,1.3,&quot;versicolor&quot;\n",
       "&quot;60&quot;,5.2,2.7,3.9,1.4,&quot;versicolor&quot;\n",
       "&quot;61&quot;,5,2,3.5,1,&quot;versicolor&quot;\n",
       "&quot;62&quot;,5.9,3,4.2,1.5,&quot;versicolor&quot;\n",
       "&quot;63&quot;,6,2.2,4,1,&quot;versicolor&quot;\n",
       "&quot;64&quot;,6.1,2.9,4.7,1.4,&quot;versicolor&quot;\n",
       "&quot;65&quot;,5.6,2.9,3.6,1.3,&quot;versicolor&quot;\n",
       "&quot;66&quot;,6.7,3.1,4.4,1.4,&quot;versicolor&quot;\n",
       "&quot;67&quot;,5.6,3,4.5,1.5,&quot;versicolor&quot;\n",
       "&quot;68&quot;,5.8,2.7,4.1,1,&quot;versicolor&quot;\n",
       "&quot;69&quot;,6.2,2.2,4.5,1.5,&quot;versicolor&quot;\n",
       "&quot;70&quot;,5.6,2.5,3.9,1.1,&quot;versicolor&quot;\n",
       "&quot;71&quot;,5.9,3.2,4.8,1.8,&quot;versicolor&quot;\n",
       "&quot;72&quot;,6.1,2.8,4,1.3,&quot;versicolor&quot;\n",
       "&quot;73&quot;,6.3,2.5,4.9,1.5,&quot;versicolor&quot;\n",
       "&quot;74&quot;,6.1,2.8,4.7,1.2,&quot;versicolor&quot;\n",
       "&quot;75&quot;,6.4,2.9,4.3,1.3,&quot;versicolor&quot;\n",
       "&quot;76&quot;,6.6,3,4.4,1.4,&quot;versicolor&quot;\n",
       "&quot;77&quot;,6.8,2.8,4.8,1.4,&quot;versicolor&quot;\n",
       "&quot;78&quot;,6.7,3,5,1.7,&quot;versicolor&quot;\n",
       "&quot;79&quot;,6,2.9,4.5,1.5,&quot;versicolor&quot;\n",
       "&quot;80&quot;,5.7,2.6,3.5,1,&quot;versicolor&quot;\n",
       "&quot;81&quot;,5.5,2.4,3.8,1.1,&quot;versicolor&quot;\n",
       "&quot;82&quot;,5.5,2.4,3.7,1,&quot;versicolor&quot;\n",
       "&quot;83&quot;,5.8,2.7,3.9,1.2,&quot;versicolor&quot;\n",
       "&quot;84&quot;,6,2.7,5.1,1.6,&quot;versicolor&quot;\n",
       "&quot;85&quot;,5.4,3,4.5,1.5,&quot;versicolor&quot;\n",
       "&quot;86&quot;,6,3.4,4.5,1.6,&quot;versicolor&quot;\n",
       "&quot;87&quot;,6.7,3.1,4.7,1.5,&quot;versicolor&quot;\n",
       "&quot;88&quot;,6.3,2.3,4.4,1.3,&quot;versicolor&quot;\n",
       "&quot;89&quot;,5.6,3,4.1,1.3,&quot;versicolor&quot;\n",
       "&quot;90&quot;,5.5,2.5,4,1.3,&quot;versicolor&quot;\n",
       "&quot;91&quot;,5.5,2.6,4.4,1.2,&quot;versicolor&quot;\n",
       "&quot;92&quot;,6.1,3,4.6,1.4,&quot;versicolor&quot;\n",
       "&quot;93&quot;,5.8,2.6,4,1.2,&quot;versicolor&quot;\n",
       "&quot;94&quot;,5,2.3,3.3,1,&quot;versicolor&quot;\n",
       "&quot;95&quot;,5.6,2.7,4.2,1.3,&quot;versicolor&quot;\n",
       "&quot;96&quot;,5.7,3,4.2,1.2,&quot;versicolor&quot;\n",
       "&quot;97&quot;,5.7,2.9,4.2,1.3,&quot;versicolor&quot;\n",
       "&quot;98&quot;,6.2,2.9,4.3,1.3,&quot;versicolor&quot;\n",
       "&quot;99&quot;,5.1,2.5,3,1.1,&quot;versicolor&quot;\n",
       "&quot;100&quot;,5.7,2.8,4.1,1.3,&quot;versicolor&quot;\n",
       "&quot;101&quot;,6.3,3.3,6,2.5,&quot;virginica&quot;\n",
       "&quot;102&quot;,5.8,2.7,5.1,1.9,&quot;virginica&quot;\n",
       "&quot;103&quot;,7.1,3,5.9,2.1,&quot;virginica&quot;\n",
       "&quot;104&quot;,6.3,2.9,5.6,1.8,&quot;virginica&quot;\n",
       "&quot;105&quot;,6.5,3,5.8,2.2,&quot;virginica&quot;\n",
       "&quot;106&quot;,7.6,3,6.6,2.1,&quot;virginica&quot;\n",
       "&quot;107&quot;,4.9,2.5,4.5,1.7,&quot;virginica&quot;\n",
       "&quot;108&quot;,7.3,2.9,6.3,1.8,&quot;virginica&quot;\n",
       "&quot;109&quot;,6.7,2.5,5.8,1.8,&quot;virginica&quot;\n",
       "&quot;110&quot;,7.2,3.6,6.1,2.5,&quot;virginica&quot;\n",
       "&quot;111&quot;,6.5,3.2,5.1,2,&quot;virginica&quot;\n",
       "&quot;112&quot;,6.4,2.7,5.3,1.9,&quot;virginica&quot;\n",
       "&quot;113&quot;,6.8,3,5.5,2.1,&quot;virginica&quot;\n",
       "&quot;114&quot;,5.7,2.5,5,2,&quot;virginica&quot;\n",
       "&quot;115&quot;,5.8,2.8,5.1,2.4,&quot;virginica&quot;\n",
       "&quot;116&quot;,6.4,3.2,5.3,2.3,&quot;virginica&quot;\n",
       "&quot;117&quot;,6.5,3,5.5,1.8,&quot;virginica&quot;\n",
       "&quot;118&quot;,7.7,3.8,6.7,2.2,&quot;virginica&quot;\n",
       "&quot;119&quot;,7.7,2.6,6.9,2.3,&quot;virginica&quot;\n",
       "&quot;120&quot;,6,2.2,5,1.5,&quot;virginica&quot;\n",
       "&quot;121&quot;,6.9,3.2,5.7,2.3,&quot;virginica&quot;\n",
       "&quot;122&quot;,5.6,2.8,4.9,2,&quot;virginica&quot;\n",
       "&quot;123&quot;,7.7,2.8,6.7,2,&quot;virginica&quot;\n",
       "&quot;124&quot;,6.3,2.7,4.9,1.8,&quot;virginica&quot;\n",
       "&quot;125&quot;,6.7,3.3,5.7,2.1,&quot;virginica&quot;\n",
       "&quot;126&quot;,7.2,3.2,6,1.8,&quot;virginica&quot;\n",
       "&quot;127&quot;,6.2,2.8,4.8,1.8,&quot;virginica&quot;\n",
       "&quot;128&quot;,6.1,3,4.9,1.8,&quot;virginica&quot;\n",
       "&quot;129&quot;,6.4,2.8,5.6,2.1,&quot;virginica&quot;\n",
       "&quot;130&quot;,7.2,3,5.8,1.6,&quot;virginica&quot;\n",
       "&quot;131&quot;,7.4,2.8,6.1,1.9,&quot;virginica&quot;\n",
       "&quot;132&quot;,7.9,3.8,6.4,2,&quot;virginica&quot;\n",
       "&quot;133&quot;,6.4,2.8,5.6,2.2,&quot;virginica&quot;\n",
       "&quot;134&quot;,6.3,2.8,5.1,1.5,&quot;virginica&quot;\n",
       "&quot;135&quot;,6.1,2.6,5.6,1.4,&quot;virginica&quot;\n",
       "&quot;136&quot;,7.7,3,6.1,2.3,&quot;virginica&quot;\n",
       "&quot;137&quot;,6.3,3.4,5.6,2.4,&quot;virginica&quot;\n",
       "&quot;138&quot;,6.4,3.1,5.5,1.8,&quot;virginica&quot;\n",
       "&quot;139&quot;,6,3,4.8,1.8,&quot;virginica&quot;\n",
       "&quot;140&quot;,6.9,3.1,5.4,2.1,&quot;virginica&quot;\n",
       "&quot;141&quot;,6.7,3.1,5.6,2.4,&quot;virginica&quot;\n",
       "&quot;142&quot;,6.9,3.1,5.1,2.3,&quot;virginica&quot;\n",
       "&quot;143&quot;,5.8,2.7,5.1,1.9,&quot;virginica&quot;\n",
       "&quot;144&quot;,6.8,3.2,5.9,2.3,&quot;virginica&quot;\n",
       "&quot;145&quot;,6.7,3.3,5.7,2.5,&quot;virginica&quot;\n",
       "&quot;146&quot;,6.7,3,5.2,2.3,&quot;virginica&quot;\n",
       "&quot;147&quot;,6.3,2.5,5,1.9,&quot;virginica&quot;\n",
       "&quot;148&quot;,6.5,3,5.2,2,&quot;virginica&quot;\n",
       "&quot;149&quot;,6.2,3.4,5.4,2.3,&quot;virginica&quot;\n",
       "&quot;150&quot;,5.9,3,5.1,1.8,&quot;virginica&quot;\n",
       "\n",
       "</div>"
      ]
     },
     "metadata": {},
     "output_type": "display_data"
    }
   ],
   "source": [
    "print(dbutils.fs.head('/databricks-datasets/Rdatasets/data-001/csv/datasets/iris.csv'))"
   ]
  },
  {
   "cell_type": "markdown",
   "metadata": {},
   "source": [
    "O seguinte comando pySpark irá criar um Spark DataFrame chamado `irisDF` usando o arquivo` iris.csv`:"
   ]
  },
  {
   "cell_type": "code",
   "execution_count": 13,
   "metadata": {},
   "outputs": [
    {
     "data": {
      "text/html": [
       "<style scoped>\n",
       "  .ansiout {\n",
       "    display: block;\n",
       "    unicode-bidi: embed;\n",
       "    white-space: pre-wrap;\n",
       "    word-wrap: break-word;\n",
       "    word-break: break-all;\n",
       "    font-family: \"Source Code Pro\", \"Menlo\", monospace;;\n",
       "    font-size: 13px;\n",
       "    color: #555;\n",
       "    margin-left: 4px;\n",
       "    line-height: 19px;\n",
       "  }\n",
       "</style>\n",
       "<div class=\"ansiout\"></div>"
      ]
     },
     "metadata": {},
     "output_type": "display_data"
    }
   ],
   "source": [
    "## spark.read.csv() load csv file as a spark dataframe\n",
    "## DataFrame.drop('_c0') drops the first id column \n",
    "irisDF = spark.read.csv(path='/databricks-datasets/Rdatasets/data-001/csv/datasets/iris.csv', \n",
    "                        header=True).drop('_c0')"
   ]
  },
  {
   "cell_type": "markdown",
   "metadata": {},
   "source": [
    "A função `display ()` do DataBricks permite que você visualize rapidamente um spark dataframe como uma tabela ou um gráfico. Atualmente, apenas as primeiras 1000 linhas serão exibidas na exibição de tabela.\n",
    "\n",
    "\n",
    "Para alterar a visualização, clique em &#9660; e escolha o gráfico correspondente."
   ]
  },
  {
   "cell_type": "code",
   "execution_count": 15,
   "metadata": {},
   "outputs": [
    {
     "data": {
      "text/html": [
       "<style scoped>\n",
       "  .table-result-container {\n",
       "    max-height: 300px;\n",
       "    overflow: auto;\n",
       "  }\n",
       "  table, th, td {\n",
       "    border: 1px solid black;\n",
       "    border-collapse: collapse;\n",
       "  }\n",
       "  th, td {\n",
       "    padding: 5px;\n",
       "  }\n",
       "  th {\n",
       "    text-align: left;\n",
       "  }\n",
       "</style><div class='table-result-container'><table class='table-result'><thead style='background-color: white'><tr><th>Sepal.Length</th><th>Sepal.Width</th><th>Petal.Length</th><th>Petal.Width</th><th>Species</th></tr></thead><tbody><tr><td>5.1</td><td>3.5</td><td>1.4</td><td>0.2</td><td>setosa</td></tr><tr><td>4.9</td><td>3</td><td>1.4</td><td>0.2</td><td>setosa</td></tr><tr><td>4.7</td><td>3.2</td><td>1.3</td><td>0.2</td><td>setosa</td></tr><tr><td>4.6</td><td>3.1</td><td>1.5</td><td>0.2</td><td>setosa</td></tr><tr><td>5</td><td>3.6</td><td>1.4</td><td>0.2</td><td>setosa</td></tr><tr><td>5.4</td><td>3.9</td><td>1.7</td><td>0.4</td><td>setosa</td></tr><tr><td>4.6</td><td>3.4</td><td>1.4</td><td>0.3</td><td>setosa</td></tr><tr><td>5</td><td>3.4</td><td>1.5</td><td>0.2</td><td>setosa</td></tr><tr><td>4.4</td><td>2.9</td><td>1.4</td><td>0.2</td><td>setosa</td></tr><tr><td>4.9</td><td>3.1</td><td>1.5</td><td>0.1</td><td>setosa</td></tr><tr><td>5.4</td><td>3.7</td><td>1.5</td><td>0.2</td><td>setosa</td></tr><tr><td>4.8</td><td>3.4</td><td>1.6</td><td>0.2</td><td>setosa</td></tr><tr><td>4.8</td><td>3</td><td>1.4</td><td>0.1</td><td>setosa</td></tr><tr><td>4.3</td><td>3</td><td>1.1</td><td>0.1</td><td>setosa</td></tr><tr><td>5.8</td><td>4</td><td>1.2</td><td>0.2</td><td>setosa</td></tr><tr><td>5.7</td><td>4.4</td><td>1.5</td><td>0.4</td><td>setosa</td></tr><tr><td>5.4</td><td>3.9</td><td>1.3</td><td>0.4</td><td>setosa</td></tr><tr><td>5.1</td><td>3.5</td><td>1.4</td><td>0.3</td><td>setosa</td></tr><tr><td>5.7</td><td>3.8</td><td>1.7</td><td>0.3</td><td>setosa</td></tr><tr><td>5.1</td><td>3.8</td><td>1.5</td><td>0.3</td><td>setosa</td></tr><tr><td>5.4</td><td>3.4</td><td>1.7</td><td>0.2</td><td>setosa</td></tr><tr><td>5.1</td><td>3.7</td><td>1.5</td><td>0.4</td><td>setosa</td></tr><tr><td>4.6</td><td>3.6</td><td>1</td><td>0.2</td><td>setosa</td></tr><tr><td>5.1</td><td>3.3</td><td>1.7</td><td>0.5</td><td>setosa</td></tr><tr><td>4.8</td><td>3.4</td><td>1.9</td><td>0.2</td><td>setosa</td></tr><tr><td>5</td><td>3</td><td>1.6</td><td>0.2</td><td>setosa</td></tr><tr><td>5</td><td>3.4</td><td>1.6</td><td>0.4</td><td>setosa</td></tr><tr><td>5.2</td><td>3.5</td><td>1.5</td><td>0.2</td><td>setosa</td></tr><tr><td>5.2</td><td>3.4</td><td>1.4</td><td>0.2</td><td>setosa</td></tr><tr><td>4.7</td><td>3.2</td><td>1.6</td><td>0.2</td><td>setosa</td></tr><tr><td>4.8</td><td>3.1</td><td>1.6</td><td>0.2</td><td>setosa</td></tr><tr><td>5.4</td><td>3.4</td><td>1.5</td><td>0.4</td><td>setosa</td></tr><tr><td>5.2</td><td>4.1</td><td>1.5</td><td>0.1</td><td>setosa</td></tr><tr><td>5.5</td><td>4.2</td><td>1.4</td><td>0.2</td><td>setosa</td></tr><tr><td>4.9</td><td>3.1</td><td>1.5</td><td>0.2</td><td>setosa</td></tr><tr><td>5</td><td>3.2</td><td>1.2</td><td>0.2</td><td>setosa</td></tr><tr><td>5.5</td><td>3.5</td><td>1.3</td><td>0.2</td><td>setosa</td></tr><tr><td>4.9</td><td>3.6</td><td>1.4</td><td>0.1</td><td>setosa</td></tr><tr><td>4.4</td><td>3</td><td>1.3</td><td>0.2</td><td>setosa</td></tr><tr><td>5.1</td><td>3.4</td><td>1.5</td><td>0.2</td><td>setosa</td></tr><tr><td>5</td><td>3.5</td><td>1.3</td><td>0.3</td><td>setosa</td></tr><tr><td>4.5</td><td>2.3</td><td>1.3</td><td>0.3</td><td>setosa</td></tr><tr><td>4.4</td><td>3.2</td><td>1.3</td><td>0.2</td><td>setosa</td></tr><tr><td>5</td><td>3.5</td><td>1.6</td><td>0.6</td><td>setosa</td></tr><tr><td>5.1</td><td>3.8</td><td>1.9</td><td>0.4</td><td>setosa</td></tr><tr><td>4.8</td><td>3</td><td>1.4</td><td>0.3</td><td>setosa</td></tr><tr><td>5.1</td><td>3.8</td><td>1.6</td><td>0.2</td><td>setosa</td></tr><tr><td>4.6</td><td>3.2</td><td>1.4</td><td>0.2</td><td>setosa</td></tr><tr><td>5.3</td><td>3.7</td><td>1.5</td><td>0.2</td><td>setosa</td></tr><tr><td>5</td><td>3.3</td><td>1.4</td><td>0.2</td><td>setosa</td></tr><tr><td>7</td><td>3.2</td><td>4.7</td><td>1.4</td><td>versicolor</td></tr><tr><td>6.4</td><td>3.2</td><td>4.5</td><td>1.5</td><td>versicolor</td></tr><tr><td>6.9</td><td>3.1</td><td>4.9</td><td>1.5</td><td>versicolor</td></tr><tr><td>5.5</td><td>2.3</td><td>4</td><td>1.3</td><td>versicolor</td></tr><tr><td>6.5</td><td>2.8</td><td>4.6</td><td>1.5</td><td>versicolor</td></tr><tr><td>5.7</td><td>2.8</td><td>4.5</td><td>1.3</td><td>versicolor</td></tr><tr><td>6.3</td><td>3.3</td><td>4.7</td><td>1.6</td><td>versicolor</td></tr><tr><td>4.9</td><td>2.4</td><td>3.3</td><td>1</td><td>versicolor</td></tr><tr><td>6.6</td><td>2.9</td><td>4.6</td><td>1.3</td><td>versicolor</td></tr><tr><td>5.2</td><td>2.7</td><td>3.9</td><td>1.4</td><td>versicolor</td></tr><tr><td>5</td><td>2</td><td>3.5</td><td>1</td><td>versicolor</td></tr><tr><td>5.9</td><td>3</td><td>4.2</td><td>1.5</td><td>versicolor</td></tr><tr><td>6</td><td>2.2</td><td>4</td><td>1</td><td>versicolor</td></tr><tr><td>6.1</td><td>2.9</td><td>4.7</td><td>1.4</td><td>versicolor</td></tr><tr><td>5.6</td><td>2.9</td><td>3.6</td><td>1.3</td><td>versicolor</td></tr><tr><td>6.7</td><td>3.1</td><td>4.4</td><td>1.4</td><td>versicolor</td></tr><tr><td>5.6</td><td>3</td><td>4.5</td><td>1.5</td><td>versicolor</td></tr><tr><td>5.8</td><td>2.7</td><td>4.1</td><td>1</td><td>versicolor</td></tr><tr><td>6.2</td><td>2.2</td><td>4.5</td><td>1.5</td><td>versicolor</td></tr><tr><td>5.6</td><td>2.5</td><td>3.9</td><td>1.1</td><td>versicolor</td></tr><tr><td>5.9</td><td>3.2</td><td>4.8</td><td>1.8</td><td>versicolor</td></tr><tr><td>6.1</td><td>2.8</td><td>4</td><td>1.3</td><td>versicolor</td></tr><tr><td>6.3</td><td>2.5</td><td>4.9</td><td>1.5</td><td>versicolor</td></tr><tr><td>6.1</td><td>2.8</td><td>4.7</td><td>1.2</td><td>versicolor</td></tr><tr><td>6.4</td><td>2.9</td><td>4.3</td><td>1.3</td><td>versicolor</td></tr><tr><td>6.6</td><td>3</td><td>4.4</td><td>1.4</td><td>versicolor</td></tr><tr><td>6.8</td><td>2.8</td><td>4.8</td><td>1.4</td><td>versicolor</td></tr><tr><td>6.7</td><td>3</td><td>5</td><td>1.7</td><td>versicolor</td></tr><tr><td>6</td><td>2.9</td><td>4.5</td><td>1.5</td><td>versicolor</td></tr><tr><td>5.7</td><td>2.6</td><td>3.5</td><td>1</td><td>versicolor</td></tr><tr><td>5.5</td><td>2.4</td><td>3.8</td><td>1.1</td><td>versicolor</td></tr><tr><td>5.5</td><td>2.4</td><td>3.7</td><td>1</td><td>versicolor</td></tr><tr><td>5.8</td><td>2.7</td><td>3.9</td><td>1.2</td><td>versicolor</td></tr><tr><td>6</td><td>2.7</td><td>5.1</td><td>1.6</td><td>versicolor</td></tr><tr><td>5.4</td><td>3</td><td>4.5</td><td>1.5</td><td>versicolor</td></tr><tr><td>6</td><td>3.4</td><td>4.5</td><td>1.6</td><td>versicolor</td></tr><tr><td>6.7</td><td>3.1</td><td>4.7</td><td>1.5</td><td>versicolor</td></tr><tr><td>6.3</td><td>2.3</td><td>4.4</td><td>1.3</td><td>versicolor</td></tr><tr><td>5.6</td><td>3</td><td>4.1</td><td>1.3</td><td>versicolor</td></tr><tr><td>5.5</td><td>2.5</td><td>4</td><td>1.3</td><td>versicolor</td></tr><tr><td>5.5</td><td>2.6</td><td>4.4</td><td>1.2</td><td>versicolor</td></tr><tr><td>6.1</td><td>3</td><td>4.6</td><td>1.4</td><td>versicolor</td></tr><tr><td>5.8</td><td>2.6</td><td>4</td><td>1.2</td><td>versicolor</td></tr><tr><td>5</td><td>2.3</td><td>3.3</td><td>1</td><td>versicolor</td></tr><tr><td>5.6</td><td>2.7</td><td>4.2</td><td>1.3</td><td>versicolor</td></tr><tr><td>5.7</td><td>3</td><td>4.2</td><td>1.2</td><td>versicolor</td></tr><tr><td>5.7</td><td>2.9</td><td>4.2</td><td>1.3</td><td>versicolor</td></tr><tr><td>6.2</td><td>2.9</td><td>4.3</td><td>1.3</td><td>versicolor</td></tr><tr><td>5.1</td><td>2.5</td><td>3</td><td>1.1</td><td>versicolor</td></tr><tr><td>5.7</td><td>2.8</td><td>4.1</td><td>1.3</td><td>versicolor</td></tr><tr><td>6.3</td><td>3.3</td><td>6</td><td>2.5</td><td>virginica</td></tr><tr><td>5.8</td><td>2.7</td><td>5.1</td><td>1.9</td><td>virginica</td></tr><tr><td>7.1</td><td>3</td><td>5.9</td><td>2.1</td><td>virginica</td></tr><tr><td>6.3</td><td>2.9</td><td>5.6</td><td>1.8</td><td>virginica</td></tr><tr><td>6.5</td><td>3</td><td>5.8</td><td>2.2</td><td>virginica</td></tr><tr><td>7.6</td><td>3</td><td>6.6</td><td>2.1</td><td>virginica</td></tr><tr><td>4.9</td><td>2.5</td><td>4.5</td><td>1.7</td><td>virginica</td></tr><tr><td>7.3</td><td>2.9</td><td>6.3</td><td>1.8</td><td>virginica</td></tr><tr><td>6.7</td><td>2.5</td><td>5.8</td><td>1.8</td><td>virginica</td></tr><tr><td>7.2</td><td>3.6</td><td>6.1</td><td>2.5</td><td>virginica</td></tr><tr><td>6.5</td><td>3.2</td><td>5.1</td><td>2</td><td>virginica</td></tr><tr><td>6.4</td><td>2.7</td><td>5.3</td><td>1.9</td><td>virginica</td></tr><tr><td>6.8</td><td>3</td><td>5.5</td><td>2.1</td><td>virginica</td></tr><tr><td>5.7</td><td>2.5</td><td>5</td><td>2</td><td>virginica</td></tr><tr><td>5.8</td><td>2.8</td><td>5.1</td><td>2.4</td><td>virginica</td></tr><tr><td>6.4</td><td>3.2</td><td>5.3</td><td>2.3</td><td>virginica</td></tr><tr><td>6.5</td><td>3</td><td>5.5</td><td>1.8</td><td>virginica</td></tr><tr><td>7.7</td><td>3.8</td><td>6.7</td><td>2.2</td><td>virginica</td></tr><tr><td>7.7</td><td>2.6</td><td>6.9</td><td>2.3</td><td>virginica</td></tr><tr><td>6</td><td>2.2</td><td>5</td><td>1.5</td><td>virginica</td></tr><tr><td>6.9</td><td>3.2</td><td>5.7</td><td>2.3</td><td>virginica</td></tr><tr><td>5.6</td><td>2.8</td><td>4.9</td><td>2</td><td>virginica</td></tr><tr><td>7.7</td><td>2.8</td><td>6.7</td><td>2</td><td>virginica</td></tr><tr><td>6.3</td><td>2.7</td><td>4.9</td><td>1.8</td><td>virginica</td></tr><tr><td>6.7</td><td>3.3</td><td>5.7</td><td>2.1</td><td>virginica</td></tr><tr><td>7.2</td><td>3.2</td><td>6</td><td>1.8</td><td>virginica</td></tr><tr><td>6.2</td><td>2.8</td><td>4.8</td><td>1.8</td><td>virginica</td></tr><tr><td>6.1</td><td>3</td><td>4.9</td><td>1.8</td><td>virginica</td></tr><tr><td>6.4</td><td>2.8</td><td>5.6</td><td>2.1</td><td>virginica</td></tr><tr><td>7.2</td><td>3</td><td>5.8</td><td>1.6</td><td>virginica</td></tr><tr><td>7.4</td><td>2.8</td><td>6.1</td><td>1.9</td><td>virginica</td></tr><tr><td>7.9</td><td>3.8</td><td>6.4</td><td>2</td><td>virginica</td></tr><tr><td>6.4</td><td>2.8</td><td>5.6</td><td>2.2</td><td>virginica</td></tr><tr><td>6.3</td><td>2.8</td><td>5.1</td><td>1.5</td><td>virginica</td></tr><tr><td>6.1</td><td>2.6</td><td>5.6</td><td>1.4</td><td>virginica</td></tr><tr><td>7.7</td><td>3</td><td>6.1</td><td>2.3</td><td>virginica</td></tr><tr><td>6.3</td><td>3.4</td><td>5.6</td><td>2.4</td><td>virginica</td></tr><tr><td>6.4</td><td>3.1</td><td>5.5</td><td>1.8</td><td>virginica</td></tr><tr><td>6</td><td>3</td><td>4.8</td><td>1.8</td><td>virginica</td></tr><tr><td>6.9</td><td>3.1</td><td>5.4</td><td>2.1</td><td>virginica</td></tr><tr><td>6.7</td><td>3.1</td><td>5.6</td><td>2.4</td><td>virginica</td></tr><tr><td>6.9</td><td>3.1</td><td>5.1</td><td>2.3</td><td>virginica</td></tr><tr><td>5.8</td><td>2.7</td><td>5.1</td><td>1.9</td><td>virginica</td></tr><tr><td>6.8</td><td>3.2</td><td>5.9</td><td>2.3</td><td>virginica</td></tr><tr><td>6.7</td><td>3.3</td><td>5.7</td><td>2.5</td><td>virginica</td></tr><tr><td>6.7</td><td>3</td><td>5.2</td><td>2.3</td><td>virginica</td></tr><tr><td>6.3</td><td>2.5</td><td>5</td><td>1.9</td><td>virginica</td></tr><tr><td>6.5</td><td>3</td><td>5.2</td><td>2</td><td>virginica</td></tr><tr><td>6.2</td><td>3.4</td><td>5.4</td><td>2.3</td><td>virginica</td></tr><tr><td>5.9</td><td>3</td><td>5.1</td><td>1.8</td><td>virginica</td></tr></tbody></table></div>"
      ]
     },
     "metadata": {},
     "output_type": "display_data"
    }
   ],
   "source": [
    "## Call display() on a DataFrame to generate a Databricks visualization \n",
    "## Display type: Scatter plot\n",
    "## In the Customize Plot window, fill in:\n",
    "## Keys: Species\n",
    "## Values: Sepal.Length, Sepal.Width, Petal.Length, Petal.Width\n",
    "\n",
    "display(irisDF)"
   ]
  },
  {
   "cell_type": "code",
   "execution_count": 16,
   "metadata": {},
   "outputs": [],
   "source": []
  }
 ],
 "metadata": {
  "kernelspec": {
   "display_name": "Python 3 (ipykernel)",
   "language": "python",
   "name": "python3"
  },
  "language_info": {
   "codemirror_mode": {
    "name": "ipython",
    "version": 3
   },
   "file_extension": ".py",
   "mimetype": "text/x-python",
   "name": "python",
   "nbconvert_exporter": "python",
   "pygments_lexer": "ipython3",
   "version": "3.8.11"
  },
  "name": "db_getting_started",
  "notebookId": 2768524391782399
 },
 "nbformat": 4,
 "nbformat_minor": 1
}
